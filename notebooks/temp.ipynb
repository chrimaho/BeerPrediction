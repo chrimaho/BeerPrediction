{
 "metadata": {
  "language_info": {
   "codemirror_mode": {
    "name": "ipython",
    "version": 3
   },
   "file_extension": ".py",
   "mimetype": "text/x-python",
   "name": "python",
   "nbconvert_exporter": "python",
   "pygments_lexer": "ipython3",
   "version": "3.7.6-final"
  },
  "orig_nbformat": 2,
  "kernelspec": {
   "name": "python3",
   "display_name": "Python 3.7.6 64-bit ('BeerPrediction': pipenv)",
   "metadata": {
    "interpreter": {
     "hash": "5660fd5c2e0c8dcd4fe7eb8156f0ca786a36e66cc993d16e5aed8e8177f2098a"
    }
   }
  }
 },
 "nbformat": 4,
 "nbformat_minor": 2,
 "cells": [
  {
   "cell_type": "code",
   "execution_count": 1,
   "metadata": {},
   "outputs": [
    {
     "output_type": "stream",
     "name": "stdout",
     "text": [
      "The autoreload extension is already loaded. To reload it, use:\n  %reload_ext autoreload\n"
     ]
    }
   ],
   "source": [
    "# The usuals\n",
    "import os\n",
    "import sys\n",
    "import subprocess\n",
    "import pandas as pd\n",
    "import numpy as np\n",
    "\n",
    "# Useful stuff\n",
    "from joblib import dump, load\n",
    "from pprint import pprint\n",
    "import random\n",
    "from statistics import mode\n",
    "from datetime import datetime\n",
    "\n",
    "# PyTorch bits\n",
    "import torch\n",
    "from torch import nn\n",
    "from torch.nn import functional as F\n",
    "\n",
    "# Autoreload\n",
    "%load_ext autoreload\n",
    "%autoreload\n",
    "%load_ext autoreload\n",
    "\n",
    "# Pandas header\n",
    "pd.set_option(\"display.colheader_justify\",\"left\")"
   ]
  },
  {
   "cell_type": "code",
   "execution_count": 2,
   "metadata": {},
   "outputs": [],
   "source": [
    "# https://drive.google.com/u/0/uc?export=download&confirm=IpWH&id=1vYyJL_IB6KjKCxuk9kg4vIMPGTtoX8Ek"
   ]
  },
  {
   "cell_type": "code",
   "execution_count": 3,
   "metadata": {},
   "outputs": [],
   "source": [
    "# Ensure the directory is correct... every time.\n",
    "for i in range(5):\n",
    "    if not os.getcwd().lower() == subprocess.run(\"git rev-parse --show-toplevel\", stdout=subprocess.PIPE).stdout.decode(\"utf-8\").replace(\"/\",\"\\\\\").strip().lower():\n",
    "        os.chdir(\"..\"),\n",
    "    else:\n",
    "        break"
   ]
  },
  {
   "cell_type": "code",
   "execution_count": 4,
   "metadata": {},
   "outputs": [],
   "source": [
    "# Set up sys path environment\n",
    "if not os.path.abspath(\".\") in sys.path:\n",
    "    sys.path.append(os.path.abspath(\".\"))\n",
    "else:\n",
    "    sys.path.remove(os.path.abspath(\".\"))\n",
    "    sys.path.append(os.path.abspath(\".\"))"
   ]
  },
  {
   "cell_type": "code",
   "execution_count": 5,
   "metadata": {},
   "outputs": [
    {
     "output_type": "stream",
     "name": "stdout",
     "text": [
      "c:\\Users\\CHMAHONE\\OneDrive - Schenker AG\\Documents\\Git Repos\\BeerPrediction\n"
     ]
    }
   ],
   "source": [
    "print(os.getcwd())"
   ]
  },
  {
   "cell_type": "code",
   "execution_count": 6,
   "metadata": {},
   "outputs": [],
   "source": [
    "data = pd.read_csv(\"./data/raw/beer_reviews.csv\")"
   ]
  },
  {
   "cell_type": "code",
   "execution_count": 7,
   "metadata": {},
   "outputs": [
    {
     "output_type": "stream",
     "name": "stdout",
     "text": [
      "(1586614, 13)\nIndex(['brewery_id', 'brewery_name', 'review_time', 'review_overall',\n       'review_aroma', 'review_appearance', 'review_profilename', 'beer_style',\n       'review_palate', 'review_taste', 'beer_name', 'beer_abv',\n       'beer_beerid'],\n      dtype='object')\n"
     ]
    },
    {
     "output_type": "display_data",
     "data": {
      "text/plain": "       brewery_id    review_time   review_overall  review_aroma  \\\ncount  1.586614e+06  1.586614e+06  1.586614e+06    1.586614e+06   \nmean   3.130099e+03  1.224089e+09  3.815581e+00    3.735636e+00   \nstd    5.578104e+03  7.654427e+07  7.206219e-01    6.976167e-01   \nmin    1.000000e+00  8.406720e+08  0.000000e+00    1.000000e+00   \n25%    1.430000e+02  1.173224e+09  3.500000e+00    3.500000e+00   \n50%    4.290000e+02  1.239203e+09  4.000000e+00    4.000000e+00   \n75%    2.372000e+03  1.288568e+09  4.500000e+00    4.000000e+00   \nmax    2.800300e+04  1.326285e+09  5.000000e+00    5.000000e+00   \n\n       review_appearance  review_palate  review_taste  beer_abv      \\\ncount  1.586614e+06       1.586614e+06   1.586614e+06  1.518829e+06   \nmean   3.841642e+00       3.743701e+00   3.792860e+00  7.042387e+00   \nstd    6.160928e-01       6.822184e-01   7.319696e-01  2.322526e+00   \nmin    0.000000e+00       1.000000e+00   1.000000e+00  1.000000e-02   \n25%    3.500000e+00       3.500000e+00   3.500000e+00  5.200000e+00   \n50%    4.000000e+00       4.000000e+00   4.000000e+00  6.500000e+00   \n75%    4.000000e+00       4.000000e+00   4.500000e+00  8.500000e+00   \nmax    5.000000e+00       5.000000e+00   5.000000e+00  5.770000e+01   \n\n       beer_beerid   \ncount  1.586614e+06  \nmean   2.171279e+04  \nstd    2.181834e+04  \nmin    3.000000e+00  \n25%    1.717000e+03  \n50%    1.390600e+04  \n75%    3.944100e+04  \nmax    7.731700e+04  ",
      "text/html": "<div>\n<style scoped>\n    .dataframe tbody tr th:only-of-type {\n        vertical-align: middle;\n    }\n\n    .dataframe tbody tr th {\n        vertical-align: top;\n    }\n\n    .dataframe thead th {\n        text-align: right;\n    }\n</style>\n<table border=\"1\" class=\"dataframe\">\n  <thead>\n    <tr style=\"text-align: left;\">\n      <th></th>\n      <th>brewery_id</th>\n      <th>review_time</th>\n      <th>review_overall</th>\n      <th>review_aroma</th>\n      <th>review_appearance</th>\n      <th>review_palate</th>\n      <th>review_taste</th>\n      <th>beer_abv</th>\n      <th>beer_beerid</th>\n    </tr>\n  </thead>\n  <tbody>\n    <tr>\n      <th>count</th>\n      <td>1.586614e+06</td>\n      <td>1.586614e+06</td>\n      <td>1.586614e+06</td>\n      <td>1.586614e+06</td>\n      <td>1.586614e+06</td>\n      <td>1.586614e+06</td>\n      <td>1.586614e+06</td>\n      <td>1.518829e+06</td>\n      <td>1.586614e+06</td>\n    </tr>\n    <tr>\n      <th>mean</th>\n      <td>3.130099e+03</td>\n      <td>1.224089e+09</td>\n      <td>3.815581e+00</td>\n      <td>3.735636e+00</td>\n      <td>3.841642e+00</td>\n      <td>3.743701e+00</td>\n      <td>3.792860e+00</td>\n      <td>7.042387e+00</td>\n      <td>2.171279e+04</td>\n    </tr>\n    <tr>\n      <th>std</th>\n      <td>5.578104e+03</td>\n      <td>7.654427e+07</td>\n      <td>7.206219e-01</td>\n      <td>6.976167e-01</td>\n      <td>6.160928e-01</td>\n      <td>6.822184e-01</td>\n      <td>7.319696e-01</td>\n      <td>2.322526e+00</td>\n      <td>2.181834e+04</td>\n    </tr>\n    <tr>\n      <th>min</th>\n      <td>1.000000e+00</td>\n      <td>8.406720e+08</td>\n      <td>0.000000e+00</td>\n      <td>1.000000e+00</td>\n      <td>0.000000e+00</td>\n      <td>1.000000e+00</td>\n      <td>1.000000e+00</td>\n      <td>1.000000e-02</td>\n      <td>3.000000e+00</td>\n    </tr>\n    <tr>\n      <th>25%</th>\n      <td>1.430000e+02</td>\n      <td>1.173224e+09</td>\n      <td>3.500000e+00</td>\n      <td>3.500000e+00</td>\n      <td>3.500000e+00</td>\n      <td>3.500000e+00</td>\n      <td>3.500000e+00</td>\n      <td>5.200000e+00</td>\n      <td>1.717000e+03</td>\n    </tr>\n    <tr>\n      <th>50%</th>\n      <td>4.290000e+02</td>\n      <td>1.239203e+09</td>\n      <td>4.000000e+00</td>\n      <td>4.000000e+00</td>\n      <td>4.000000e+00</td>\n      <td>4.000000e+00</td>\n      <td>4.000000e+00</td>\n      <td>6.500000e+00</td>\n      <td>1.390600e+04</td>\n    </tr>\n    <tr>\n      <th>75%</th>\n      <td>2.372000e+03</td>\n      <td>1.288568e+09</td>\n      <td>4.500000e+00</td>\n      <td>4.000000e+00</td>\n      <td>4.000000e+00</td>\n      <td>4.000000e+00</td>\n      <td>4.500000e+00</td>\n      <td>8.500000e+00</td>\n      <td>3.944100e+04</td>\n    </tr>\n    <tr>\n      <th>max</th>\n      <td>2.800300e+04</td>\n      <td>1.326285e+09</td>\n      <td>5.000000e+00</td>\n      <td>5.000000e+00</td>\n      <td>5.000000e+00</td>\n      <td>5.000000e+00</td>\n      <td>5.000000e+00</td>\n      <td>5.770000e+01</td>\n      <td>7.731700e+04</td>\n    </tr>\n  </tbody>\n</table>\n</div>"
     },
     "metadata": {}
    }
   ],
   "source": [
    "print(data.shape)\n",
    "print(data.columns)\n",
    "display(data.describe())"
   ]
  },
  {
   "cell_type": "code",
   "execution_count": 8,
   "metadata": {},
   "outputs": [],
   "source": [
    "# from pandas_profiling import ProfileReport\n",
    "\n",
    "# # Create profile report\n",
    "# profile = ProfileReport(data, title=\"Profile Report\")\n",
    "# # Export\n",
    "# profile.to_file(\"./reports/InitialReport.html\")\n",
    "# # View\n",
    "# display(profile)\n"
   ]
  },
  {
   "source": [
    "# Set Up Dataset"
   ],
   "cell_type": "markdown",
   "metadata": {}
  },
  {
   "cell_type": "code",
   "execution_count": 9,
   "metadata": {},
   "outputs": [],
   "source": [
    "# Copy the data\n",
    "data_upd = data.copy()"
   ]
  },
  {
   "source": [
    "### Select only the desired feature columns"
   ],
   "cell_type": "markdown",
   "metadata": {}
  },
  {
   "cell_type": "code",
   "execution_count": 10,
   "metadata": {},
   "outputs": [],
   "source": [
    "from src.data.set_data import sel_feat_cols\n",
    "\n",
    "# Select only the desired feature columns\n",
    "data_upd = sel_feat_cols(data_upd, [\"brewery_name\",\"review_aroma\",\"review_appearance\",\"review_palate\",\"review_taste\",\"beer_style\"])"
   ]
  },
  {
   "cell_type": "code",
   "execution_count": 11,
   "metadata": {},
   "outputs": [
    {
     "output_type": "display_data",
     "data": {
      "text/plain": "        brewery_name                  review_aroma  review_appearance  \\\n0                    Vecchio Birraio  2.0           2.5                 \n1                    Vecchio Birraio  2.5           3.0                 \n2                    Vecchio Birraio  2.5           3.0                 \n3                    Vecchio Birraio  3.0           3.5                 \n4            Caldera Brewing Company  4.5           4.0                 \n...                              ...           ...                ...   \n1586609  The Defiant Brewing Company  4.0           3.5                 \n1586610  The Defiant Brewing Company  5.0           2.5                 \n1586611  The Defiant Brewing Company  3.5           3.0                 \n1586612  The Defiant Brewing Company  4.5           4.5                 \n1586613  The Defiant Brewing Company  4.5           4.5                 \n\n         review_palate  review_taste beer_style                       \n0        1.5            1.5                               Hefeweizen  \n1        3.0            3.0                       English Strong Ale  \n2        3.0            3.0                   Foreign / Export Stout  \n3        2.5            3.0                          German Pilsener  \n4        4.0            4.5           American Double / Imperial IPA  \n...                ...           ...                             ...  \n1586609  4.0            4.0                              Pumpkin Ale  \n1586610  2.0            4.0                              Pumpkin Ale  \n1586611  3.5            4.0                              Pumpkin Ale  \n1586612  4.5            4.5                              Pumpkin Ale  \n1586613  4.5            4.5                              Pumpkin Ale  \n\n[1586614 rows x 6 columns]",
      "text/html": "<div>\n<style scoped>\n    .dataframe tbody tr th:only-of-type {\n        vertical-align: middle;\n    }\n\n    .dataframe tbody tr th {\n        vertical-align: top;\n    }\n\n    .dataframe thead th {\n        text-align: right;\n    }\n</style>\n<table border=\"1\" class=\"dataframe\">\n  <thead>\n    <tr style=\"text-align: left;\">\n      <th></th>\n      <th>brewery_name</th>\n      <th>review_aroma</th>\n      <th>review_appearance</th>\n      <th>review_palate</th>\n      <th>review_taste</th>\n      <th>beer_style</th>\n    </tr>\n  </thead>\n  <tbody>\n    <tr>\n      <th>0</th>\n      <td>Vecchio Birraio</td>\n      <td>2.0</td>\n      <td>2.5</td>\n      <td>1.5</td>\n      <td>1.5</td>\n      <td>Hefeweizen</td>\n    </tr>\n    <tr>\n      <th>1</th>\n      <td>Vecchio Birraio</td>\n      <td>2.5</td>\n      <td>3.0</td>\n      <td>3.0</td>\n      <td>3.0</td>\n      <td>English Strong Ale</td>\n    </tr>\n    <tr>\n      <th>2</th>\n      <td>Vecchio Birraio</td>\n      <td>2.5</td>\n      <td>3.0</td>\n      <td>3.0</td>\n      <td>3.0</td>\n      <td>Foreign / Export Stout</td>\n    </tr>\n    <tr>\n      <th>3</th>\n      <td>Vecchio Birraio</td>\n      <td>3.0</td>\n      <td>3.5</td>\n      <td>2.5</td>\n      <td>3.0</td>\n      <td>German Pilsener</td>\n    </tr>\n    <tr>\n      <th>4</th>\n      <td>Caldera Brewing Company</td>\n      <td>4.5</td>\n      <td>4.0</td>\n      <td>4.0</td>\n      <td>4.5</td>\n      <td>American Double / Imperial IPA</td>\n    </tr>\n    <tr>\n      <th>...</th>\n      <td>...</td>\n      <td>...</td>\n      <td>...</td>\n      <td>...</td>\n      <td>...</td>\n      <td>...</td>\n    </tr>\n    <tr>\n      <th>1586609</th>\n      <td>The Defiant Brewing Company</td>\n      <td>4.0</td>\n      <td>3.5</td>\n      <td>4.0</td>\n      <td>4.0</td>\n      <td>Pumpkin Ale</td>\n    </tr>\n    <tr>\n      <th>1586610</th>\n      <td>The Defiant Brewing Company</td>\n      <td>5.0</td>\n      <td>2.5</td>\n      <td>2.0</td>\n      <td>4.0</td>\n      <td>Pumpkin Ale</td>\n    </tr>\n    <tr>\n      <th>1586611</th>\n      <td>The Defiant Brewing Company</td>\n      <td>3.5</td>\n      <td>3.0</td>\n      <td>3.5</td>\n      <td>4.0</td>\n      <td>Pumpkin Ale</td>\n    </tr>\n    <tr>\n      <th>1586612</th>\n      <td>The Defiant Brewing Company</td>\n      <td>4.5</td>\n      <td>4.5</td>\n      <td>4.5</td>\n      <td>4.5</td>\n      <td>Pumpkin Ale</td>\n    </tr>\n    <tr>\n      <th>1586613</th>\n      <td>The Defiant Brewing Company</td>\n      <td>4.5</td>\n      <td>4.5</td>\n      <td>4.5</td>\n      <td>4.5</td>\n      <td>Pumpkin Ale</td>\n    </tr>\n  </tbody>\n</table>\n<p>1586614 rows × 6 columns</p>\n</div>"
     },
     "metadata": {}
    }
   ],
   "source": [
    "# Check dataset\n",
    "display(data_upd)"
   ]
  },
  {
   "source": [
    "### Train the encoders"
   ],
   "cell_type": "markdown",
   "metadata": {}
  },
  {
   "cell_type": "code",
   "execution_count": 12,
   "metadata": {},
   "outputs": [],
   "source": [
    "from src.data.prep_data import make_si\n",
    "from src.data.prep_data import encode_features, scale_features"
   ]
  },
  {
   "cell_type": "code",
   "execution_count": 13,
   "metadata": {},
   "outputs": [
    {
     "output_type": "execute_result",
     "data": {
      "text/plain": [
       "['./models/encoders/si_handle_nan_brewery_name.joblib']"
      ]
     },
     "metadata": {},
     "execution_count": 13
    }
   ],
   "source": [
    "# `SimpleImputer` for `NaN` values in the `brewery_name`\n",
    "data_upd, si = make_si(data_upd, \"brewery_name\", True)\n",
    "# data_upd[[\"brewery_name\"]] = si.transform(data_upd[[\"brewery_name\"]])\n",
    "dump(si, \"./models/encoders/si_handle_nan_brewery_name.joblib\")"
   ]
  },
  {
   "cell_type": "code",
   "execution_count": 14,
   "metadata": {},
   "outputs": [
    {
     "output_type": "execute_result",
     "data": {
      "text/plain": [
       "['./models/encoders/oe_numericify_brewery_name.joblib']"
      ]
     },
     "metadata": {},
     "execution_count": 14
    }
   ],
   "source": [
    "# `OrdinalEncoder` to get numeric versions of `brewery_name`\n",
    "data_upd, oe = encode_features(data_upd, \"brewery_name\", \"oe\", True)\n",
    "# data_upd[[\"brewery_name\"]] = oe.transform(data_upd[[\"brewery_name\"]])\n",
    "dump(oe, \"./models/encoders/oe_numericify_brewery_name.joblib\")"
   ]
  },
  {
   "cell_type": "code",
   "execution_count": 15,
   "metadata": {},
   "outputs": [
    {
     "output_type": "execute_result",
     "data": {
      "text/plain": [
       "['./models/encoders/le_numericify_beer_style.joblib']"
      ]
     },
     "metadata": {},
     "execution_count": 15
    }
   ],
   "source": [
    "# `LabelEncoder` to get numeric versions of `beer_style`\n",
    "data_upd, le = encode_features(data_upd, \"beer_style\", \"le\", True)\n",
    "# data_upd[[\"beer_style\"]] = le.transform(data_upd[[\"beer_style\"]])\n",
    "dump(oe, \"./models/encoders/le_numericify_beer_style.joblib\")"
   ]
  },
  {
   "cell_type": "code",
   "execution_count": 16,
   "metadata": {},
   "outputs": [
    {
     "output_type": "execute_result",
     "data": {
      "text/plain": [
       "['./models/encoders/sc_scale_features.joblib']"
      ]
     },
     "metadata": {},
     "execution_count": 16
    }
   ],
   "source": [
    "# `StandardScaler` to get them all in the same scale\n",
    "data_upd, sc = scale_features(data_upd, [\"brewery_name\",\"review_aroma\",\"review_appearance\",\"review_palate\",\"review_taste\"], True)\n",
    "dump(sc, \"./models/encoders/sc_scale_features.joblib\")"
   ]
  },
  {
   "cell_type": "code",
   "execution_count": 17,
   "metadata": {},
   "outputs": [
    {
     "output_type": "stream",
     "name": "stdout",
     "text": [
      "<class 'pandas.core.frame.DataFrame'>\nRangeIndex: 1586614 entries, 0 to 1586613\nData columns (total 6 columns):\n #   Column             Non-Null Count    Dtype  \n---  ------             --------------    -----  \n 0   brewery_name       1586614 non-null  float64\n 1   review_aroma       1586614 non-null  float64\n 2   review_appearance  1586614 non-null  float64\n 3   review_palate      1586614 non-null  float64\n 4   review_taste       1586614 non-null  float64\n 5   beer_style         1586614 non-null  int32  \ndtypes: float64(5), int32(1)\nmemory usage: 66.6 MB\n"
     ]
    },
    {
     "output_type": "display_data",
     "data": {
      "text/plain": "None"
     },
     "metadata": {}
    },
    {
     "output_type": "display_data",
     "data": {
      "text/plain": "   brewery_name  review_aroma  review_appearance  review_palate  review_taste  \\\n0  1.464354     -2.487952     -2.177663          -3.288833      -3.132454       \n1  1.464354     -1.771225     -1.366096          -1.090123      -1.083188       \n2  1.464354     -1.771225     -1.366096          -1.090123      -1.083188       \n3  1.464354     -1.054499     -0.554530          -1.823026      -1.083188       \n4 -0.823949      1.095679      0.257037           0.375684       0.966078       \n\n   beer_style  \n0  65          \n1  51          \n2  59          \n3  61          \n4   9          ",
      "text/html": "<div>\n<style scoped>\n    .dataframe tbody tr th:only-of-type {\n        vertical-align: middle;\n    }\n\n    .dataframe tbody tr th {\n        vertical-align: top;\n    }\n\n    .dataframe thead th {\n        text-align: right;\n    }\n</style>\n<table border=\"1\" class=\"dataframe\">\n  <thead>\n    <tr style=\"text-align: left;\">\n      <th></th>\n      <th>brewery_name</th>\n      <th>review_aroma</th>\n      <th>review_appearance</th>\n      <th>review_palate</th>\n      <th>review_taste</th>\n      <th>beer_style</th>\n    </tr>\n  </thead>\n  <tbody>\n    <tr>\n      <th>0</th>\n      <td>1.464354</td>\n      <td>-2.487952</td>\n      <td>-2.177663</td>\n      <td>-3.288833</td>\n      <td>-3.132454</td>\n      <td>65</td>\n    </tr>\n    <tr>\n      <th>1</th>\n      <td>1.464354</td>\n      <td>-1.771225</td>\n      <td>-1.366096</td>\n      <td>-1.090123</td>\n      <td>-1.083188</td>\n      <td>51</td>\n    </tr>\n    <tr>\n      <th>2</th>\n      <td>1.464354</td>\n      <td>-1.771225</td>\n      <td>-1.366096</td>\n      <td>-1.090123</td>\n      <td>-1.083188</td>\n      <td>59</td>\n    </tr>\n    <tr>\n      <th>3</th>\n      <td>1.464354</td>\n      <td>-1.054499</td>\n      <td>-0.554530</td>\n      <td>-1.823026</td>\n      <td>-1.083188</td>\n      <td>61</td>\n    </tr>\n    <tr>\n      <th>4</th>\n      <td>-0.823949</td>\n      <td>1.095679</td>\n      <td>0.257037</td>\n      <td>0.375684</td>\n      <td>0.966078</td>\n      <td>9</td>\n    </tr>\n  </tbody>\n</table>\n</div>"
     },
     "metadata": {}
    }
   ],
   "source": [
    "display(data_upd.info())\n",
    "display(data_upd.head())"
   ]
  },
  {
   "source": [
    "### Construct Pipelines"
   ],
   "cell_type": "markdown",
   "metadata": {}
  },
  {
   "cell_type": "code",
   "execution_count": 18,
   "metadata": {},
   "outputs": [],
   "source": [
    "from sklearn.pipeline import Pipeline\n",
    "from sklearn.compose import ColumnTransformer\n",
    "\n",
    "# Import transformers\n",
    "si = load(\"./models/encoders/si_handle_nan_brewery_name.joblib\")\n",
    "oe = load(\"./models/encoders/oe_numericify_brewery_name.joblib\")\n",
    "sc = load(\"./models/encoders/sc_scale_features.joblib\")\n",
    "\n",
    "# `SimpleImputer` for `NaN` values\n",
    "nan_transformer = Pipeline(\n",
    "    steps=[\n",
    "        # (\"simple_imputer\", SimpleImputer(missing_values=np.nan, strategy=\"constant\", fill_value=\"Other\"))\n",
    "        (\"simple_imputer\", si)\n",
    "    ]\n",
    ")\n",
    "\n",
    "# `OrdinalEncoder` for `brewery_name`\n",
    "cat_transformer = Pipeline(\n",
    "    steps=[\n",
    "        # (\"ordinal_encoder\", OrdinalEncoder())\n",
    "        (\"ordinal_encoder\", oe)\n",
    "    ]\n",
    ")\n",
    "\n",
    "# `StandardScaler` for numeric cols\n",
    "num_transformer = Pipeline(\n",
    "    steps=[\n",
    "        # (\"standard_scaler\", StandardScaler())\n",
    "        (\"standard_scaler\", sc)\n",
    "    ]\n",
    ")\n",
    "\n",
    "# Preprocessor to do everything\n",
    "preprocessor = ColumnTransformer \\\n",
    "    ( transformers = \\\n",
    "        [ (\"nan_cols\", nan_transformer, [\"brewery_name\"])\n",
    "        , (\"cat_cols\", cat_transformer, [\"brewery_name\"])\n",
    "        , (\"num_cols\", num_transformer, [\"brewery_name\",\"review_aroma\",\"review_appearance\",\"review_palate\",\"review_taste\"])\n",
    "        ]\n",
    "    )"
   ]
  },
  {
   "source": [
    "### Pop the Target"
   ],
   "cell_type": "markdown",
   "metadata": {}
  },
  {
   "cell_type": "code",
   "execution_count": 19,
   "metadata": {},
   "outputs": [],
   "source": [
    "from src.data.set_data import pop_target\n",
    "\n",
    "# Separate the features from the target\n",
    "feat, targ = pop_target(data_upd, \"beer_style\")"
   ]
  },
  {
   "cell_type": "code",
   "execution_count": 20,
   "metadata": {},
   "outputs": [
    {
     "output_type": "execute_result",
     "data": {
      "text/plain": [
       "['./data/interim/feat.joblib']"
      ]
     },
     "metadata": {},
     "execution_count": 20
    }
   ],
   "source": [
    "# Save the data sets\n",
    "dump(data, './data/interim/data.joblib')\n",
    "dump(targ, \"./data/interim/targ.joblib\")\n",
    "dump(feat, \"./data/interim/feat.joblib\")"
   ]
  },
  {
   "cell_type": "code",
   "execution_count": 21,
   "metadata": {},
   "outputs": [
    {
     "output_type": "stream",
     "name": "stdout",
     "text": [
      "(1586614, 1)\n(1586614, 5)\n"
     ]
    },
    {
     "output_type": "display_data",
     "data": {
      "text/plain": "   beer_style\n0  65        \n1  51        \n2  59        \n3  61        \n4   9        ",
      "text/html": "<div>\n<style scoped>\n    .dataframe tbody tr th:only-of-type {\n        vertical-align: middle;\n    }\n\n    .dataframe tbody tr th {\n        vertical-align: top;\n    }\n\n    .dataframe thead th {\n        text-align: right;\n    }\n</style>\n<table border=\"1\" class=\"dataframe\">\n  <thead>\n    <tr style=\"text-align: left;\">\n      <th></th>\n      <th>beer_style</th>\n    </tr>\n  </thead>\n  <tbody>\n    <tr>\n      <th>0</th>\n      <td>65</td>\n    </tr>\n    <tr>\n      <th>1</th>\n      <td>51</td>\n    </tr>\n    <tr>\n      <th>2</th>\n      <td>59</td>\n    </tr>\n    <tr>\n      <th>3</th>\n      <td>61</td>\n    </tr>\n    <tr>\n      <th>4</th>\n      <td>9</td>\n    </tr>\n  </tbody>\n</table>\n</div>"
     },
     "metadata": {}
    },
    {
     "output_type": "display_data",
     "data": {
      "text/plain": "   brewery_name  review_aroma  review_appearance  review_palate  review_taste\n0  1.464354     -2.487952     -2.177663          -3.288833      -3.132454    \n1  1.464354     -1.771225     -1.366096          -1.090123      -1.083188    \n2  1.464354     -1.771225     -1.366096          -1.090123      -1.083188    \n3  1.464354     -1.054499     -0.554530          -1.823026      -1.083188    \n4 -0.823949      1.095679      0.257037           0.375684       0.966078    ",
      "text/html": "<div>\n<style scoped>\n    .dataframe tbody tr th:only-of-type {\n        vertical-align: middle;\n    }\n\n    .dataframe tbody tr th {\n        vertical-align: top;\n    }\n\n    .dataframe thead th {\n        text-align: right;\n    }\n</style>\n<table border=\"1\" class=\"dataframe\">\n  <thead>\n    <tr style=\"text-align: left;\">\n      <th></th>\n      <th>brewery_name</th>\n      <th>review_aroma</th>\n      <th>review_appearance</th>\n      <th>review_palate</th>\n      <th>review_taste</th>\n    </tr>\n  </thead>\n  <tbody>\n    <tr>\n      <th>0</th>\n      <td>1.464354</td>\n      <td>-2.487952</td>\n      <td>-2.177663</td>\n      <td>-3.288833</td>\n      <td>-3.132454</td>\n    </tr>\n    <tr>\n      <th>1</th>\n      <td>1.464354</td>\n      <td>-1.771225</td>\n      <td>-1.366096</td>\n      <td>-1.090123</td>\n      <td>-1.083188</td>\n    </tr>\n    <tr>\n      <th>2</th>\n      <td>1.464354</td>\n      <td>-1.771225</td>\n      <td>-1.366096</td>\n      <td>-1.090123</td>\n      <td>-1.083188</td>\n    </tr>\n    <tr>\n      <th>3</th>\n      <td>1.464354</td>\n      <td>-1.054499</td>\n      <td>-0.554530</td>\n      <td>-1.823026</td>\n      <td>-1.083188</td>\n    </tr>\n    <tr>\n      <th>4</th>\n      <td>-0.823949</td>\n      <td>1.095679</td>\n      <td>0.257037</td>\n      <td>0.375684</td>\n      <td>0.966078</td>\n    </tr>\n  </tbody>\n</table>\n</div>"
     },
     "metadata": {}
    }
   ],
   "source": [
    "# Check the sizes\n",
    "print(targ.shape)\n",
    "print(feat.shape)\n",
    "display(targ.head())\n",
    "display(feat.head())"
   ]
  },
  {
   "cell_type": "code",
   "execution_count": 22,
   "metadata": {},
   "outputs": [],
   "source": [
    "from src.data.set_data import split_data\n",
    "\n",
    "# Split data\n",
    "feat_trn, feat_tst, targ_trn, targ_tst = split_data(feat, targ, test_size=0.3)\n",
    "feat_trn, feat_val, targ_trn, targ_val = split_data(feat_trn, targ_trn, test_size=0.3)"
   ]
  },
  {
   "cell_type": "code",
   "execution_count": 23,
   "metadata": {},
   "outputs": [
    {
     "output_type": "display_data",
     "data": {
      "text/plain": "<pandas.io.formats.style.Styler at 0x1bc08748b08>",
      "text/html": "<style  type=\"text/css\" >\n#T_b9c24_row0_col0,#T_b9c24_row0_col1,#T_b9c24_row1_col0,#T_b9c24_row1_col1,#T_b9c24_row2_col0,#T_b9c24_row2_col1,#T_b9c24_row3_col0,#T_b9c24_row3_col1,#T_b9c24_row4_col0,#T_b9c24_row4_col1,#T_b9c24_row5_col0,#T_b9c24_row5_col1{\n            text-align:  left;\n        }</style><table id=\"T_b9c24_\" ><thead>    <tr>        <th class=\"blank level0\" ></th>        <th class=\"col_heading level0 col0\" >name</th>        <th class=\"col_heading level0 col1\" >shape</th>    </tr></thead><tbody>\n                <tr>\n                        <th id=\"T_b9c24_level0_row0\" class=\"row_heading level0 row0\" >0</th>\n                        <td id=\"T_b9c24_row0_col0\" class=\"data row0 col0\" >feat_trn</td>\n                        <td id=\"T_b9c24_row0_col1\" class=\"data row0 col1\" >777440 x 5</td>\n            </tr>\n            <tr>\n                        <th id=\"T_b9c24_level0_row1\" class=\"row_heading level0 row1\" >1</th>\n                        <td id=\"T_b9c24_row1_col0\" class=\"data row1 col0\" >targ_trn</td>\n                        <td id=\"T_b9c24_row1_col1\" class=\"data row1 col1\" >777440 x 1</td>\n            </tr>\n            <tr>\n                        <th id=\"T_b9c24_level0_row2\" class=\"row_heading level0 row2\" >2</th>\n                        <td id=\"T_b9c24_row2_col0\" class=\"data row2 col0\" >feat_val</td>\n                        <td id=\"T_b9c24_row2_col1\" class=\"data row2 col1\" >333189 x 5</td>\n            </tr>\n            <tr>\n                        <th id=\"T_b9c24_level0_row3\" class=\"row_heading level0 row3\" >3</th>\n                        <td id=\"T_b9c24_row3_col0\" class=\"data row3 col0\" >targ_val</td>\n                        <td id=\"T_b9c24_row3_col1\" class=\"data row3 col1\" >333189 x 1</td>\n            </tr>\n            <tr>\n                        <th id=\"T_b9c24_level0_row4\" class=\"row_heading level0 row4\" >4</th>\n                        <td id=\"T_b9c24_row4_col0\" class=\"data row4 col0\" >feat_tst</td>\n                        <td id=\"T_b9c24_row4_col1\" class=\"data row4 col1\" >475985 x 5</td>\n            </tr>\n            <tr>\n                        <th id=\"T_b9c24_level0_row5\" class=\"row_heading level0 row5\" >5</th>\n                        <td id=\"T_b9c24_row5_col0\" class=\"data row5 col0\" >targ_tst</td>\n                        <td id=\"T_b9c24_row5_col1\" class=\"data row5 col1\" >475985 x 1</td>\n            </tr>\n    </tbody></table>"
     },
     "metadata": {}
    }
   ],
   "source": [
    "from src.utils.misc import get_shape\n",
    "\n",
    "# Check the data\n",
    "temp = pd.DataFrame()\n",
    "new = [{\"name\": data, \"shape\": get_shape(eval(data), True)} for data in [\"feat_trn\", \"targ_trn\", \"feat_val\", \"targ_val\", \"feat_tst\", \"targ_tst\"]]\n",
    "temp = temp.append(new, ignore_index=True)\n",
    "temp = temp.style.set_properties(**{\"text-align\":\"left\"})\n",
    "display(temp)"
   ]
  },
  {
   "cell_type": "code",
   "execution_count": 24,
   "metadata": {},
   "outputs": [
    {
     "output_type": "execute_result",
     "data": {
      "text/plain": [
       "['./data/processed/targ_tst.joblib']"
      ]
     },
     "metadata": {},
     "execution_count": 24
    }
   ],
   "source": [
    "# Dump everything\n",
    "dump(feat_trn, \"./data/processed/feat_trn.joblib\")\n",
    "dump(targ_trn, \"./data/processed/targ_trn.joblib\")\n",
    "dump(feat_val, \"./data/processed/feat_val.joblib\")\n",
    "dump(targ_val, \"./data/processed/targ_val.joblib\")\n",
    "dump(feat_tst, \"./data/processed/feat_tst.joblib\")\n",
    "dump(targ_tst, \"./data/processed/targ_tst.joblib\")"
   ]
  },
  {
   "cell_type": "code",
   "execution_count": 25,
   "metadata": {},
   "outputs": [],
   "source": [
    "# Convert everything to Numpy arrays\n",
    "feat_trn = feat_trn.to_numpy()\n",
    "targ_trn = targ_trn.to_numpy()[:,0]\n",
    "feat_val = feat_val.to_numpy()\n",
    "targ_val = targ_val.to_numpy()[:,0]\n",
    "feat_tst = feat_tst.to_numpy()\n",
    "targ_tst = targ_tst.to_numpy()[:,0]"
   ]
  },
  {
   "cell_type": "code",
   "execution_count": 26,
   "metadata": {},
   "outputs": [
    {
     "output_type": "stream",
     "name": "stdout",
     "text": [
      "(777440, 5) <class 'numpy.ndarray'>\n(777440,) <class 'numpy.ndarray'>\n(333189, 5) <class 'numpy.ndarray'>\n(333189,) <class 'numpy.ndarray'>\n(475985, 5) <class 'numpy.ndarray'>\n(475985,) <class 'numpy.ndarray'>\n[ 31  14 102  19 102  89  60   2  14  16]\n"
     ]
    }
   ],
   "source": [
    "print(feat_trn.shape, type(feat_trn))\n",
    "print(targ_trn.shape, type(targ_trn))\n",
    "print(feat_val.shape, type(feat_val))\n",
    "print(targ_val.shape, type(targ_val))\n",
    "print(feat_tst.shape, type(feat_tst))\n",
    "print(targ_tst.shape, type(targ_tst))\n",
    "\n",
    "print(targ_trn[:10])"
   ]
  },
  {
   "source": [
    "**Steps for transforming the data in production:**\n",
    "\n",
    "1. Ensure it has parsed all feature columns\n",
    "1. Handle `NaN` values in the `brewery_name` column\n",
    "1. Encode the `brewery_name` column using the `OrdinalEncoder`\n",
    "1. Select only feature columns\n",
    "1. Run the `StandardScaler` over the full dataset."
   ],
   "cell_type": "markdown",
   "metadata": {}
  },
  {
   "source": [
    "# Modelling"
   ],
   "cell_type": "markdown",
   "metadata": {}
  },
  {
   "source": [
    "### Data Generators"
   ],
   "cell_type": "markdown",
   "metadata": {}
  },
  {
   "source": [
    "from src.models.pytorch import PyTorchDataset\n",
    "\n",
    "# Set datasets\n",
    "data_trn = PyTorchDataset(feat=feat_trn, targ=targ_trn)\n",
    "data_val = PyTorchDataset(feat=feat_val, targ=targ_val)\n",
    "data_tst = PyTorchDataset(feat=feat_tst, targ=targ_tst)"
   ],
   "cell_type": "code",
   "metadata": {},
   "execution_count": 27,
   "outputs": []
  },
  {
   "source": [
    "### Null Model"
   ],
   "cell_type": "markdown",
   "metadata": {}
  },
  {
   "cell_type": "code",
   "execution_count": 27,
   "metadata": {},
   "outputs": [
    {
     "output_type": "stream",
     "name": "stdout",
     "text": [
      "Accuracy Baseline: 1.0\n",
      "F1 Baseline: 1.0\n"
     ]
    }
   ],
   "source": [
    "from src.models.null import NullModel\n",
    "from src.models.performance import print_class_perf\n",
    "\n",
    "# Baseline\n",
    "baseline = NullModel(target_type=\"class\")\n",
    "pred_trn = baseline.fit_predict(targ_trn)\n",
    "print_class_perf(pred_trn, targ_trn, set_name=\"Baseline\", average=\"weighted\")"
   ]
  },
  {
   "cell_type": "code",
   "execution_count": 28,
   "metadata": {},
   "outputs": [
    {
     "output_type": "stream",
     "name": "stdout",
     "text": [
      "(777440,)\n(777440,)\n104\n"
     ]
    }
   ],
   "source": [
    "print(pred_trn.shape)\n",
    "print(targ_trn.shape)\n",
    "print(len(set(targ_trn)))"
   ]
  },
  {
   "source": [
    "### First Attempt"
   ],
   "cell_type": "markdown",
   "metadata": {}
  },
  {
   "cell_type": "code",
   "execution_count": 29,
   "metadata": {},
   "outputs": [],
   "source": [
    "from src.models.pytorch import Net\n",
    "\n",
    "# Instantiate model\n",
    "model = Net(feat_trn.shape[1], len(set(targ_trn)))"
   ]
  },
  {
   "cell_type": "code",
   "execution_count": 30,
   "metadata": {},
   "outputs": [
    {
     "output_type": "execute_result",
     "data": {
      "text/plain": [
       "Net(\n",
       "  (fc1): Linear(in_features=5, out_features=5, bias=True)\n",
       "  (fc2): Linear(in_features=5, out_features=10, bias=True)\n",
       "  (fc3): Linear(in_features=10, out_features=20, bias=True)\n",
       "  (fc4): Linear(in_features=20, out_features=40, bias=True)\n",
       "  (fc5): Linear(in_features=40, out_features=80, bias=True)\n",
       "  (fc6): Linear(in_features=80, out_features=100, bias=True)\n",
       "  (out): Linear(in_features=100, out_features=104, bias=True)\n",
       "  (softmax): Softmax(dim=1)\n",
       ")"
      ]
     },
     "metadata": {},
     "execution_count": 30
    }
   ],
   "source": [
    "from src.models.pytorch import get_device\n",
    "\n",
    "# Push to device\n",
    "device = get_device()\n",
    "model.to(device)"
   ]
  },
  {
   "cell_type": "code",
   "execution_count": 36,
   "metadata": {},
   "outputs": [
    {
     "output_type": "stream",
     "name": "stdout",
     "text": [
      "cuda:0\n"
     ]
    }
   ],
   "source": [
    "print(device)"
   ]
  },
  {
   "cell_type": "code",
   "execution_count": 38,
   "metadata": {},
   "outputs": [],
   "source": [
    "# Instantiate operators\n",
    "crit = nn.CrossEntropyLoss()\n",
    "optm = torch.optim.Adam(model.parameters(), lr=0.01)\n",
    "sche = torch.optim.lr_scheduler.ReduceLROnPlateau(optimizer=optm, mode=\"min\", patience=3)"
   ]
  },
  {
   "cell_type": "code",
   "execution_count": 39,
   "metadata": {},
   "outputs": [],
   "source": [
    "N_EPOCHS = 10\n",
    "BATCH_SIZE = 1000"
   ]
  },
  {
   "cell_type": "code",
   "execution_count": 40,
   "metadata": {},
   "outputs": [
    {
     "output_type": "stream",
     "name": "stdout",
     "text": [
      "Epoch: 0\n",
      "\t(train)\t|\tLoss: 0.1434\t|\tAcc: 7.1%\n",
      "\t(valid)\t|\tLoss: 0.1433\t|\tAcc: 7.4%\n",
      "Epoch: 1\n",
      "\t(train)\t|\tLoss: 0.1445\t|\tAcc: 3.7%\n",
      "\t(valid)\t|\tLoss: 0.1446\t|\tAcc: 3.4%\n",
      "Epoch: 2\n",
      "\t(train)\t|\tLoss: 0.1446\t|\tAcc: 3.4%\n",
      "\t(valid)\t|\tLoss: 0.1446\t|\tAcc: 3.4%\n",
      "Epoch: 3\n",
      "\t(train)\t|\tLoss: 0.1446\t|\tAcc: 3.4%\n",
      "\t(valid)\t|\tLoss: 0.1446\t|\tAcc: 3.4%\n",
      "Epoch: 4\n",
      "\t(train)\t|\tLoss: 0.1446\t|\tAcc: 3.4%\n",
      "\t(valid)\t|\tLoss: 0.1446\t|\tAcc: 3.4%\n",
      "Epoch: 5\n",
      "\t(train)\t|\tLoss: 0.1446\t|\tAcc: 3.4%\n",
      "\t(valid)\t|\tLoss: 0.1446\t|\tAcc: 3.4%\n",
      "Epoch: 6\n",
      "\t(train)\t|\tLoss: 0.1446\t|\tAcc: 3.4%\n",
      "\t(valid)\t|\tLoss: 0.1446\t|\tAcc: 3.4%\n",
      "Epoch: 7\n",
      "\t(train)\t|\tLoss: 0.1446\t|\tAcc: 3.4%\n",
      "\t(valid)\t|\tLoss: 0.1446\t|\tAcc: 3.4%\n",
      "Epoch: 8\n",
      "\t(train)\t|\tLoss: 0.1446\t|\tAcc: 3.4%\n",
      "\t(valid)\t|\tLoss: 0.1446\t|\tAcc: 3.4%\n",
      "Epoch: 9\n",
      "\t(train)\t|\tLoss: 0.1446\t|\tAcc: 3.4%\n",
      "\t(valid)\t|\tLoss: 0.1446\t|\tAcc: 3.4%\n",
      "Epoch: 10\n",
      "\t(train)\t|\tLoss: 0.1446\t|\tAcc: 3.4%\n",
      "\t(valid)\t|\tLoss: 0.1446\t|\tAcc: 3.4%\n",
      "Epoch: 11\n",
      "\t(train)\t|\tLoss: 0.1446\t|\tAcc: 3.5%\n",
      "\t(valid)\t|\tLoss: 0.1446\t|\tAcc: 3.4%\n",
      "Epoch: 12\n",
      "\t(train)\t|\tLoss: 0.1443\t|\tAcc: 4.4%\n",
      "\t(valid)\t|\tLoss: 0.1446\t|\tAcc: 3.4%\n",
      "Epoch: 13\n",
      "\t(train)\t|\tLoss: 0.1443\t|\tAcc: 4.2%\n",
      "\t(valid)\t|\tLoss: 0.1446\t|\tAcc: 3.4%\n",
      "Epoch: 14\n",
      "\t(train)\t|\tLoss: 0.1444\t|\tAcc: 4.1%\n",
      "\t(valid)\t|\tLoss: 0.1446\t|\tAcc: 3.4%\n",
      "Epoch: 15\n",
      "\t(train)\t|\tLoss: 0.1443\t|\tAcc: 4.3%\n",
      "\t(valid)\t|\tLoss: 0.1446\t|\tAcc: 3.4%\n",
      "Epoch: 16\n",
      "\t(train)\t|\tLoss: 0.1445\t|\tAcc: 3.7%\n",
      "\t(valid)\t|\tLoss: 0.1447\t|\tAcc: 3.2%\n",
      "Epoch: 17\n",
      "\t(train)\t|\tLoss: 0.1444\t|\tAcc: 4.0%\n",
      "\t(valid)\t|\tLoss: 0.1446\t|\tAcc: 3.4%\n",
      "Epoch: 18\n",
      "\t(train)\t|\tLoss: 0.1444\t|\tAcc: 4.1%\n",
      "\t(valid)\t|\tLoss: 0.1446\t|\tAcc: 3.4%\n",
      "Epoch: 19\n",
      "\t(train)\t|\tLoss: 0.1444\t|\tAcc: 3.9%\n",
      "\t(valid)\t|\tLoss: 0.1446\t|\tAcc: 3.4%\n",
      "Epoch: 20\n",
      "\t(train)\t|\tLoss: 0.1444\t|\tAcc: 3.9%\n",
      "\t(valid)\t|\tLoss: 0.1446\t|\tAcc: 3.4%\n",
      "Epoch: 21\n",
      "\t(train)\t|\tLoss: 0.1443\t|\tAcc: 4.2%\n",
      "\t(valid)\t|\tLoss: 0.1441\t|\tAcc: 4.9%\n",
      "Epoch: 22\n",
      "\t(train)\t|\tLoss: 0.1443\t|\tAcc: 4.3%\n",
      "\t(valid)\t|\tLoss: 0.1443\t|\tAcc: 4.3%\n",
      "Epoch: 23\n",
      "\t(train)\t|\tLoss: 0.1443\t|\tAcc: 4.3%\n",
      "\t(valid)\t|\tLoss: 0.1443\t|\tAcc: 4.2%\n",
      "Epoch: 24\n",
      "\t(train)\t|\tLoss: 0.1443\t|\tAcc: 4.3%\n",
      "\t(valid)\t|\tLoss: 0.1440\t|\tAcc: 5.4%\n",
      "Epoch: 25\n",
      "\t(train)\t|\tLoss: 0.1442\t|\tAcc: 4.6%\n",
      "\t(valid)\t|\tLoss: 0.1440\t|\tAcc: 5.4%\n",
      "Epoch: 26\n",
      "\t(train)\t|\tLoss: 0.1441\t|\tAcc: 5.0%\n",
      "\t(valid)\t|\tLoss: 0.1440\t|\tAcc: 5.4%\n",
      "Epoch: 27\n",
      "\t(train)\t|\tLoss: 0.1442\t|\tAcc: 4.6%\n",
      "\t(valid)\t|\tLoss: 0.1440\t|\tAcc: 5.4%\n",
      "Epoch: 28\n",
      "\t(train)\t|\tLoss: 0.1442\t|\tAcc: 4.8%\n",
      "\t(valid)\t|\tLoss: 0.1440\t|\tAcc: 5.4%\n",
      "Epoch: 29\n",
      "\t(train)\t|\tLoss: 0.1442\t|\tAcc: 4.7%\n",
      "\t(valid)\t|\tLoss: 0.1440\t|\tAcc: 5.4%\n",
      "Epoch: 30\n",
      "\t(train)\t|\tLoss: 0.1441\t|\tAcc: 4.8%\n",
      "\t(valid)\t|\tLoss: 0.1440\t|\tAcc: 5.4%\n",
      "Epoch: 31\n",
      "\t(train)\t|\tLoss: 0.1441\t|\tAcc: 5.0%\n",
      "\t(valid)\t|\tLoss: 0.1440\t|\tAcc: 5.4%\n",
      "Epoch: 32\n",
      "\t(train)\t|\tLoss: 0.1441\t|\tAcc: 4.8%\n",
      "\t(valid)\t|\tLoss: 0.1440\t|\tAcc: 5.4%\n",
      "Epoch: 33\n",
      "\t(train)\t|\tLoss: 0.1440\t|\tAcc: 5.1%\n",
      "\t(valid)\t|\tLoss: 0.1440\t|\tAcc: 5.4%\n",
      "Epoch: 34\n",
      "\t(train)\t|\tLoss: 0.1440\t|\tAcc: 5.3%\n",
      "\t(valid)\t|\tLoss: 0.1440\t|\tAcc: 5.4%\n",
      "Epoch: 35\n",
      "\t(train)\t|\tLoss: 0.1440\t|\tAcc: 5.3%\n",
      "\t(valid)\t|\tLoss: 0.1440\t|\tAcc: 5.4%\n",
      "Epoch: 36\n",
      "\t(train)\t|\tLoss: 0.1440\t|\tAcc: 5.4%\n",
      "\t(valid)\t|\tLoss: 0.1440\t|\tAcc: 5.4%\n",
      "Epoch: 37\n",
      "\t(train)\t|\tLoss: 0.1440\t|\tAcc: 5.4%\n",
      "\t(valid)\t|\tLoss: 0.1440\t|\tAcc: 5.4%\n",
      "Epoch: 38\n",
      "\t(train)\t|\tLoss: 0.1440\t|\tAcc: 5.4%\n",
      "\t(valid)\t|\tLoss: 0.1440\t|\tAcc: 5.4%\n",
      "Epoch: 39\n",
      "\t(train)\t|\tLoss: 0.1440\t|\tAcc: 5.4%\n",
      "\t(valid)\t|\tLoss: 0.1440\t|\tAcc: 5.4%\n",
      "Epoch: 40\n",
      "\t(train)\t|\tLoss: 0.1440\t|\tAcc: 5.4%\n",
      "\t(valid)\t|\tLoss: 0.1440\t|\tAcc: 5.4%\n",
      "Epoch: 41\n",
      "\t(train)\t|\tLoss: 0.1440\t|\tAcc: 5.4%\n",
      "\t(valid)\t|\tLoss: 0.1440\t|\tAcc: 5.4%\n",
      "Epoch: 42\n",
      "\t(train)\t|\tLoss: 0.1440\t|\tAcc: 5.4%\n",
      "\t(valid)\t|\tLoss: 0.1440\t|\tAcc: 5.4%\n",
      "Epoch: 43\n",
      "\t(train)\t|\tLoss: 0.1440\t|\tAcc: 5.4%\n",
      "\t(valid)\t|\tLoss: 0.1440\t|\tAcc: 5.4%\n",
      "Epoch: 44\n",
      "\t(train)\t|\tLoss: 0.1440\t|\tAcc: 5.4%\n",
      "\t(valid)\t|\tLoss: 0.1440\t|\tAcc: 5.4%\n",
      "Epoch: 45\n",
      "\t(train)\t|\tLoss: 0.1440\t|\tAcc: 5.4%\n",
      "\t(valid)\t|\tLoss: 0.1440\t|\tAcc: 5.4%\n",
      "Epoch: 46\n",
      "\t(train)\t|\tLoss: 0.1440\t|\tAcc: 5.4%\n",
      "\t(valid)\t|\tLoss: 0.1440\t|\tAcc: 5.4%\n",
      "Epoch: 47\n",
      "\t(train)\t|\tLoss: 0.1440\t|\tAcc: 5.4%\n",
      "\t(valid)\t|\tLoss: 0.1440\t|\tAcc: 5.4%\n",
      "Epoch: 48\n",
      "\t(train)\t|\tLoss: 0.1440\t|\tAcc: 5.4%\n",
      "\t(valid)\t|\tLoss: 0.1440\t|\tAcc: 5.4%\n",
      "Epoch: 49\n",
      "\t(train)\t|\tLoss: 0.1440\t|\tAcc: 5.4%\n",
      "\t(valid)\t|\tLoss: 0.1440\t|\tAcc: 5.4%\n"
     ]
    }
   ],
   "source": [
    "from src.models.pytorch import train_classification, test_classification\n",
    "\n",
    "for epoch in range(N_EPOCHS):\n",
    "    train_loss, train_acc = train_classification(data_trn, model=model, criterion=crit, optimizer=optm, batch_size=BATCH_SIZE, device=device)\n",
    "    valid_loss, valid_acc = test_classification(data_val, model=model, criterion=crit, batch_size=BATCH_SIZE, device=device)\n",
    "\n",
    "    print(f'Epoch: {epoch}')\n",
    "    print(f'\\t(train)\\t|\\tLoss: {train_loss:.4f}\\t|\\tAcc: {train_acc * 100:.1f}%')\n",
    "    print(f'\\t(valid)\\t|\\tLoss: {valid_loss:.4f}\\t|\\tAcc: {valid_acc * 100:.1f}%')"
   ]
  },
  {
   "source": [
    "### Using function to define the model"
   ],
   "cell_type": "markdown",
   "metadata": {}
  },
  {
   "cell_type": "code",
   "execution_count": 31,
   "metadata": {},
   "outputs": [],
   "source": [
    "from src.models.pytorch import model_set\n",
    "\n",
    "# \n",
    "modl = model_set \\\n",
    "    ( first_shape=feat_trn.shape[1]\n",
    "    , hidden_shapes=[10,20,40,80,100]\n",
    "    , hidden_acti=nn.ReLU()\n",
    "    , final_shape=len(set(targ_trn))\n",
    "    , final_acti=nn.Softmax(dim=1)\n",
    "    , dropout=0.2\n",
    "    )"
   ]
  },
  {
   "cell_type": "code",
   "execution_count": 32,
   "metadata": {},
   "outputs": [
    {
     "output_type": "execute_result",
     "data": {
      "text/plain": [
       "Sequential(\n",
       "  (shap_frst): Linear(in_features=5, out_features=10, bias=True)\n",
       "  (acti_frst): ReLU()\n",
       "  (regl_frst): Dropout(p=0.2, inplace=False)\n",
       "  (shap_01): Linear(in_features=10, out_features=20, bias=True)\n",
       "  (acti_01): ReLU()\n",
       "  (regl_01): Dropout(p=0.2, inplace=False)\n",
       "  (shap_02): Linear(in_features=20, out_features=40, bias=True)\n",
       "  (acti_02): ReLU()\n",
       "  (regl_02): Dropout(p=0.2, inplace=False)\n",
       "  (shap_03): Linear(in_features=40, out_features=80, bias=True)\n",
       "  (acti_03): ReLU()\n",
       "  (regl_03): Dropout(p=0.2, inplace=False)\n",
       "  (shap_04): Linear(in_features=80, out_features=100, bias=True)\n",
       "  (acti_04): ReLU()\n",
       "  (regl_04): Dropout(p=0.2, inplace=False)\n",
       "  (shap_finl): Linear(in_features=100, out_features=104, bias=True)\n",
       "  (acti_finl): Softmax(dim=1)\n",
       ")"
      ]
     },
     "metadata": {},
     "execution_count": 32
    }
   ],
   "source": [
    "from src.models.pytorch import get_device\n",
    "\n",
    "# Push to device\n",
    "modl.to(get_device())"
   ]
  },
  {
   "cell_type": "code",
   "execution_count": null,
   "metadata": {},
   "outputs": [],
   "source": [
    "# Instantiate operators\n",
    "crit = nn.CrossEntropyLoss()\n",
    "optm = torch.optim.Adam(model.parameters(), lr=0.01)\n",
    "sche = torch.optim.lr_scheduler.ReduceLROnPlateau(optimizer=optm, mode=\"min\", patience=3)"
   ]
  },
  {
   "cell_type": "code",
   "execution_count": null,
   "metadata": {},
   "outputs": [],
   "source": [
    "N_EPOCHS = 10\n",
    "BATCH_SIZE = 1000"
   ]
  },
  {
   "cell_type": "code",
   "execution_count": null,
   "metadata": {},
   "outputs": [],
   "source": [
    "from src.models.pytorch import train_classification, test_classification\n",
    "\n",
    "for epoch in range(N_EPOCHS):\n",
    "    train_loss, train_acc = train_classification(data_trn, model=model, criterion=crit, optimizer=optm, batch_size=BATCH_SIZE, device=device)\n",
    "    valid_loss, valid_acc = test_classification(data_val, model=model, criterion=crit, batch_size=BATCH_SIZE, device=device)\n",
    "\n",
    "    print(f'Epoch: {epoch}')\n",
    "    print(f'\\t(train)\\t|\\tLoss: {train_loss:.4f}\\t|\\tAcc: {train_acc * 100:.1f}%')\n",
    "    print(f'\\t(valid)\\t|\\tLoss: {valid_loss:.4f}\\t|\\tAcc: {valid_acc * 100:.1f}%')"
   ]
  },
  {
   "source": [
    "### Less Complicated Model"
   ],
   "cell_type": "markdown",
   "metadata": {}
  },
  {
   "cell_type": "code",
   "execution_count": 28,
   "metadata": {},
   "outputs": [],
   "source": [
    "from src.models.pytorch import Net\n",
    "\n",
    "# Instantiate model\n",
    "modl = Net(feat_trn.shape[1], len(set(targ_trn)))"
   ]
  },
  {
   "cell_type": "code",
   "execution_count": 29,
   "metadata": {},
   "outputs": [
    {
     "output_type": "stream",
     "name": "stdout",
     "text": [
      "cpu\n"
     ]
    },
    {
     "output_type": "execute_result",
     "data": {
      "text/plain": [
       "Net(\n",
       "  (fc1): Linear(in_features=5, out_features=10, bias=True)\n",
       "  (fc2): Linear(in_features=10, out_features=50, bias=True)\n",
       "  (fc3): Linear(in_features=50, out_features=100, bias=True)\n",
       "  (out): Linear(in_features=100, out_features=104, bias=True)\n",
       "  (softmax): Softmax(dim=1)\n",
       ")"
      ]
     },
     "metadata": {},
     "execution_count": 29
    }
   ],
   "source": [
    "from src.models.pytorch import get_device\n",
    "\n",
    "# Push to device\n",
    "device = get_device()\n",
    "print(device)\n",
    "modl.to(device)"
   ]
  },
  {
   "cell_type": "code",
   "execution_count": 31,
   "metadata": {},
   "outputs": [],
   "source": [
    "# Instantiate operators\n",
    "crit = nn.CrossEntropyLoss()\n",
    "optm = torch.optim.Adam(modl.parameters(), lr=0.01)\n",
    "sche = torch.optim.lr_scheduler.ReduceLROnPlateau(optimizer=optm, mode=\"min\", patience=3)"
   ]
  },
  {
   "cell_type": "code",
   "execution_count": 32,
   "metadata": {},
   "outputs": [],
   "source": [
    "N_EPOCHS = 5\n",
    "BATCH_SIZE = 1000"
   ]
  },
  {
   "cell_type": "code",
   "execution_count": 33,
   "metadata": {},
   "outputs": [
    {
     "output_type": "error",
     "ename": "TypeError",
     "evalue": "step() missing 1 required positional argument: 'metrics'",
     "traceback": [
      "\u001b[1;31m---------------------------------------------------------------------------\u001b[0m",
      "\u001b[1;31mTypeError\u001b[0m                                 Traceback (most recent call last)",
      "\u001b[1;32m<ipython-input-33-db3e8c268e1b>\u001b[0m in \u001b[0;36m<module>\u001b[1;34m\u001b[0m\n\u001b[0;32m      2\u001b[0m \u001b[1;33m\u001b[0m\u001b[0m\n\u001b[0;32m      3\u001b[0m \u001b[1;32mfor\u001b[0m \u001b[0mepoch\u001b[0m \u001b[1;32min\u001b[0m \u001b[0mrange\u001b[0m\u001b[1;33m(\u001b[0m\u001b[0mN_EPOCHS\u001b[0m\u001b[1;33m)\u001b[0m\u001b[1;33m:\u001b[0m\u001b[1;33m\u001b[0m\u001b[1;33m\u001b[0m\u001b[0m\n\u001b[1;32m----> 4\u001b[1;33m     \u001b[0mtrain_loss\u001b[0m\u001b[1;33m,\u001b[0m \u001b[0mtrain_acc\u001b[0m \u001b[1;33m=\u001b[0m \u001b[0mtrain_classification\u001b[0m\u001b[1;33m(\u001b[0m\u001b[0mdata_trn\u001b[0m\u001b[1;33m,\u001b[0m \u001b[0mmodel\u001b[0m\u001b[1;33m=\u001b[0m\u001b[0mmodl\u001b[0m\u001b[1;33m,\u001b[0m \u001b[0mcriterion\u001b[0m\u001b[1;33m=\u001b[0m\u001b[0mcrit\u001b[0m\u001b[1;33m,\u001b[0m \u001b[0moptimizer\u001b[0m\u001b[1;33m=\u001b[0m\u001b[0moptm\u001b[0m\u001b[1;33m,\u001b[0m \u001b[0mbatch_size\u001b[0m\u001b[1;33m=\u001b[0m\u001b[0mBATCH_SIZE\u001b[0m\u001b[1;33m,\u001b[0m \u001b[0mdevice\u001b[0m\u001b[1;33m=\u001b[0m\u001b[0mdevice\u001b[0m\u001b[1;33m,\u001b[0m \u001b[0mscheduler\u001b[0m\u001b[1;33m=\u001b[0m\u001b[0msche\u001b[0m\u001b[1;33m)\u001b[0m\u001b[1;33m\u001b[0m\u001b[1;33m\u001b[0m\u001b[0m\n\u001b[0m\u001b[0;32m      5\u001b[0m     \u001b[0mvalid_loss\u001b[0m\u001b[1;33m,\u001b[0m \u001b[0mvalid_acc\u001b[0m \u001b[1;33m=\u001b[0m \u001b[0mtest_classification\u001b[0m\u001b[1;33m(\u001b[0m\u001b[0mdata_val\u001b[0m\u001b[1;33m,\u001b[0m \u001b[0mmodel\u001b[0m\u001b[1;33m=\u001b[0m\u001b[0mmodl\u001b[0m\u001b[1;33m,\u001b[0m \u001b[0mcriterion\u001b[0m\u001b[1;33m=\u001b[0m\u001b[0mcrit\u001b[0m\u001b[1;33m,\u001b[0m \u001b[0mbatch_size\u001b[0m\u001b[1;33m=\u001b[0m\u001b[0mBATCH_SIZE\u001b[0m\u001b[1;33m,\u001b[0m \u001b[0mdevice\u001b[0m\u001b[1;33m=\u001b[0m\u001b[0mdevice\u001b[0m\u001b[1;33m)\u001b[0m\u001b[1;33m\u001b[0m\u001b[1;33m\u001b[0m\u001b[0m\n\u001b[0;32m      6\u001b[0m \u001b[1;33m\u001b[0m\u001b[0m\n",
      "\u001b[1;32mc:\\Users\\CHMAHONE\\OneDrive - Schenker AG\\Documents\\Git Repos\\BeerPrediction\\src\\models\\pytorch.py\u001b[0m in \u001b[0;36mtrain_classification\u001b[1;34m(train_data, model, criterion, optimizer, batch_size, device, scheduler, generate_batch)\u001b[0m\n\u001b[0;32m    561\u001b[0m     \u001b[1;31m# Adjust the learning rate\u001b[0m\u001b[1;33m\u001b[0m\u001b[1;33m\u001b[0m\u001b[1;33m\u001b[0m\u001b[0m\n\u001b[0;32m    562\u001b[0m     \u001b[1;32mif\u001b[0m \u001b[0mscheduler\u001b[0m\u001b[1;33m:\u001b[0m\u001b[1;33m\u001b[0m\u001b[1;33m\u001b[0m\u001b[0m\n\u001b[1;32m--> 563\u001b[1;33m         \u001b[0mscheduler\u001b[0m\u001b[1;33m.\u001b[0m\u001b[0mstep\u001b[0m\u001b[1;33m(\u001b[0m\u001b[1;33m)\u001b[0m\u001b[1;33m\u001b[0m\u001b[1;33m\u001b[0m\u001b[0m\n\u001b[0m\u001b[0;32m    564\u001b[0m \u001b[1;33m\u001b[0m\u001b[0m\n\u001b[0;32m    565\u001b[0m     \u001b[1;32mreturn\u001b[0m \u001b[0mtrain_loss\u001b[0m \u001b[1;33m/\u001b[0m \u001b[0mlen\u001b[0m\u001b[1;33m(\u001b[0m\u001b[0mtrain_data\u001b[0m\u001b[1;33m)\u001b[0m\u001b[1;33m,\u001b[0m \u001b[0mtrain_acc\u001b[0m \u001b[1;33m/\u001b[0m \u001b[0mlen\u001b[0m\u001b[1;33m(\u001b[0m\u001b[0mtrain_data\u001b[0m\u001b[1;33m)\u001b[0m\u001b[1;33m\u001b[0m\u001b[1;33m\u001b[0m\u001b[0m\n",
      "\u001b[1;31mTypeError\u001b[0m: step() missing 1 required positional argument: 'metrics'"
     ]
    }
   ],
   "source": [
    "from src.models.pytorch import train_classification, test_classification\n",
    "\n",
    "for epoch in range(N_EPOCHS):\n",
    "    train_loss, train_acc = train_classification(data_trn, model=modl, criterion=crit, optimizer=optm, batch_size=BATCH_SIZE, device=device)\n",
    "    valid_loss, valid_acc = test_classification(data_val, model=modl, criterion=crit, batch_size=BATCH_SIZE, device=device)\n",
    "\n",
    "    print(f'Epoch: {epoch}')\n",
    "    print(f'\\t(train)\\t|\\tLoss: {train_loss:.4f}\\t|\\tAcc: {train_acc * 100:.1f}%')\n",
    "    print(f'\\t(valid)\\t|\\tLoss: {valid_loss:.4f}\\t|\\tAcc: {valid_acc * 100:.1f}%')"
   ]
  },
  {
   "cell_type": "code",
   "execution_count": null,
   "metadata": {},
   "outputs": [],
   "source": []
  }
 ]
}