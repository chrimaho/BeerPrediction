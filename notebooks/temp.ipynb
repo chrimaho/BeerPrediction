{
 "metadata": {
  "language_info": {
   "codemirror_mode": {
    "name": "ipython",
    "version": 3
   },
   "file_extension": ".py",
   "mimetype": "text/x-python",
   "name": "python",
   "nbconvert_exporter": "python",
   "pygments_lexer": "ipython3",
   "version": "3.7.6-final"
  },
  "orig_nbformat": 2,
  "kernelspec": {
   "name": "python3",
   "display_name": "Python 3.7.6 64-bit ('BeerPrediction': pipenv)",
   "metadata": {
    "interpreter": {
     "hash": "5660fd5c2e0c8dcd4fe7eb8156f0ca786a36e66cc993d16e5aed8e8177f2098a"
    }
   }
  }
 },
 "nbformat": 4,
 "nbformat_minor": 2,
 "cells": [
  {
   "cell_type": "code",
   "execution_count": 1,
   "metadata": {},
   "outputs": [
    {
     "output_type": "stream",
     "name": "stdout",
     "text": [
      "The autoreload extension is already loaded. To reload it, use:\n  %reload_ext autoreload\n"
     ]
    }
   ],
   "source": [
    "# The usuals\n",
    "import os\n",
    "import sys\n",
    "import subprocess\n",
    "import pandas as pd\n",
    "import numpy as np\n",
    "\n",
    "# Useful stuff\n",
    "from joblib import dump, load\n",
    "from pprint import pprint\n",
    "import random\n",
    "from statistics import mode\n",
    "from datetime import datetime\n",
    "\n",
    "# PyTorch bits\n",
    "import torch\n",
    "from torch import nn\n",
    "from torch.nn import functional as F\n",
    "\n",
    "# Autoreload\n",
    "%load_ext autoreload\n",
    "%autoreload\n",
    "%load_ext autoreload"
   ]
  },
  {
   "cell_type": "code",
   "execution_count": 2,
   "metadata": {},
   "outputs": [],
   "source": [
    "# https://drive.google.com/u/0/uc?export=download&confirm=IpWH&id=1vYyJL_IB6KjKCxuk9kg4vIMPGTtoX8Ek"
   ]
  },
  {
   "cell_type": "code",
   "execution_count": 3,
   "metadata": {},
   "outputs": [],
   "source": [
    "# Ensure the directory is correct... every time.\n",
    "for i in range(5):\n",
    "    if not os.getcwd().lower() == subprocess.run(\"git rev-parse --show-toplevel\", stdout=subprocess.PIPE).stdout.decode(\"utf-8\").replace(\"/\",\"\\\\\").strip().lower():\n",
    "        os.chdir(\"..\"),\n",
    "    else:\n",
    "        break"
   ]
  },
  {
   "cell_type": "code",
   "execution_count": 4,
   "metadata": {},
   "outputs": [],
   "source": [
    "# Set up sys path environment\n",
    "if not os.path.abspath(\".\") in sys.path:\n",
    "    sys.path.append(os.path.abspath(\".\"))\n",
    "else:\n",
    "    sys.path.remove(os.path.abspath(\".\"))\n",
    "    sys.path.append(os.path.abspath(\".\"))"
   ]
  },
  {
   "cell_type": "code",
   "execution_count": 5,
   "metadata": {},
   "outputs": [
    {
     "output_type": "stream",
     "name": "stdout",
     "text": [
      "c:\\Users\\CHMAHONE\\OneDrive - Schenker AG\\Documents\\Git Repos\\BeerPrediction\n"
     ]
    }
   ],
   "source": [
    "print(os.getcwd())"
   ]
  },
  {
   "cell_type": "code",
   "execution_count": 6,
   "metadata": {},
   "outputs": [],
   "source": [
    "data = pd.read_csv(\"./data/raw/beer_reviews.csv\")"
   ]
  },
  {
   "cell_type": "code",
   "execution_count": 7,
   "metadata": {},
   "outputs": [
    {
     "output_type": "stream",
     "name": "stdout",
     "text": [
      "(1586614, 13)\nIndex(['brewery_id', 'brewery_name', 'review_time', 'review_overall',\n       'review_aroma', 'review_appearance', 'review_profilename', 'beer_style',\n       'review_palate', 'review_taste', 'beer_name', 'beer_abv',\n       'beer_beerid'],\n      dtype='object')\n"
     ]
    },
    {
     "output_type": "display_data",
     "data": {
      "text/plain": "         brewery_id   review_time  review_overall  review_aroma  \\\ncount  1.586614e+06  1.586614e+06    1.586614e+06  1.586614e+06   \nmean   3.130099e+03  1.224089e+09    3.815581e+00  3.735636e+00   \nstd    5.578104e+03  7.654427e+07    7.206219e-01  6.976167e-01   \nmin    1.000000e+00  8.406720e+08    0.000000e+00  1.000000e+00   \n25%    1.430000e+02  1.173224e+09    3.500000e+00  3.500000e+00   \n50%    4.290000e+02  1.239203e+09    4.000000e+00  4.000000e+00   \n75%    2.372000e+03  1.288568e+09    4.500000e+00  4.000000e+00   \nmax    2.800300e+04  1.326285e+09    5.000000e+00  5.000000e+00   \n\n       review_appearance  review_palate  review_taste      beer_abv  \\\ncount       1.586614e+06   1.586614e+06  1.586614e+06  1.518829e+06   \nmean        3.841642e+00   3.743701e+00  3.792860e+00  7.042387e+00   \nstd         6.160928e-01   6.822184e-01  7.319696e-01  2.322526e+00   \nmin         0.000000e+00   1.000000e+00  1.000000e+00  1.000000e-02   \n25%         3.500000e+00   3.500000e+00  3.500000e+00  5.200000e+00   \n50%         4.000000e+00   4.000000e+00  4.000000e+00  6.500000e+00   \n75%         4.000000e+00   4.000000e+00  4.500000e+00  8.500000e+00   \nmax         5.000000e+00   5.000000e+00  5.000000e+00  5.770000e+01   \n\n        beer_beerid  \ncount  1.586614e+06  \nmean   2.171279e+04  \nstd    2.181834e+04  \nmin    3.000000e+00  \n25%    1.717000e+03  \n50%    1.390600e+04  \n75%    3.944100e+04  \nmax    7.731700e+04  ",
      "text/html": "<div>\n<style scoped>\n    .dataframe tbody tr th:only-of-type {\n        vertical-align: middle;\n    }\n\n    .dataframe tbody tr th {\n        vertical-align: top;\n    }\n\n    .dataframe thead th {\n        text-align: right;\n    }\n</style>\n<table border=\"1\" class=\"dataframe\">\n  <thead>\n    <tr style=\"text-align: right;\">\n      <th></th>\n      <th>brewery_id</th>\n      <th>review_time</th>\n      <th>review_overall</th>\n      <th>review_aroma</th>\n      <th>review_appearance</th>\n      <th>review_palate</th>\n      <th>review_taste</th>\n      <th>beer_abv</th>\n      <th>beer_beerid</th>\n    </tr>\n  </thead>\n  <tbody>\n    <tr>\n      <th>count</th>\n      <td>1.586614e+06</td>\n      <td>1.586614e+06</td>\n      <td>1.586614e+06</td>\n      <td>1.586614e+06</td>\n      <td>1.586614e+06</td>\n      <td>1.586614e+06</td>\n      <td>1.586614e+06</td>\n      <td>1.518829e+06</td>\n      <td>1.586614e+06</td>\n    </tr>\n    <tr>\n      <th>mean</th>\n      <td>3.130099e+03</td>\n      <td>1.224089e+09</td>\n      <td>3.815581e+00</td>\n      <td>3.735636e+00</td>\n      <td>3.841642e+00</td>\n      <td>3.743701e+00</td>\n      <td>3.792860e+00</td>\n      <td>7.042387e+00</td>\n      <td>2.171279e+04</td>\n    </tr>\n    <tr>\n      <th>std</th>\n      <td>5.578104e+03</td>\n      <td>7.654427e+07</td>\n      <td>7.206219e-01</td>\n      <td>6.976167e-01</td>\n      <td>6.160928e-01</td>\n      <td>6.822184e-01</td>\n      <td>7.319696e-01</td>\n      <td>2.322526e+00</td>\n      <td>2.181834e+04</td>\n    </tr>\n    <tr>\n      <th>min</th>\n      <td>1.000000e+00</td>\n      <td>8.406720e+08</td>\n      <td>0.000000e+00</td>\n      <td>1.000000e+00</td>\n      <td>0.000000e+00</td>\n      <td>1.000000e+00</td>\n      <td>1.000000e+00</td>\n      <td>1.000000e-02</td>\n      <td>3.000000e+00</td>\n    </tr>\n    <tr>\n      <th>25%</th>\n      <td>1.430000e+02</td>\n      <td>1.173224e+09</td>\n      <td>3.500000e+00</td>\n      <td>3.500000e+00</td>\n      <td>3.500000e+00</td>\n      <td>3.500000e+00</td>\n      <td>3.500000e+00</td>\n      <td>5.200000e+00</td>\n      <td>1.717000e+03</td>\n    </tr>\n    <tr>\n      <th>50%</th>\n      <td>4.290000e+02</td>\n      <td>1.239203e+09</td>\n      <td>4.000000e+00</td>\n      <td>4.000000e+00</td>\n      <td>4.000000e+00</td>\n      <td>4.000000e+00</td>\n      <td>4.000000e+00</td>\n      <td>6.500000e+00</td>\n      <td>1.390600e+04</td>\n    </tr>\n    <tr>\n      <th>75%</th>\n      <td>2.372000e+03</td>\n      <td>1.288568e+09</td>\n      <td>4.500000e+00</td>\n      <td>4.000000e+00</td>\n      <td>4.000000e+00</td>\n      <td>4.000000e+00</td>\n      <td>4.500000e+00</td>\n      <td>8.500000e+00</td>\n      <td>3.944100e+04</td>\n    </tr>\n    <tr>\n      <th>max</th>\n      <td>2.800300e+04</td>\n      <td>1.326285e+09</td>\n      <td>5.000000e+00</td>\n      <td>5.000000e+00</td>\n      <td>5.000000e+00</td>\n      <td>5.000000e+00</td>\n      <td>5.000000e+00</td>\n      <td>5.770000e+01</td>\n      <td>7.731700e+04</td>\n    </tr>\n  </tbody>\n</table>\n</div>"
     },
     "metadata": {}
    }
   ],
   "source": [
    "print(data.shape)\n",
    "print(data.columns)\n",
    "display(data.describe())"
   ]
  },
  {
   "cell_type": "code",
   "execution_count": 8,
   "metadata": {},
   "outputs": [],
   "source": [
    "# from pandas_profiling import ProfileReport\n",
    "\n",
    "# # Create profile report\n",
    "# profile = ProfileReport(data, title=\"Profile Report\")\n",
    "# # Export\n",
    "# profile.to_file(\"./reports/InitialReport.html\")\n",
    "# # View\n",
    "# display(profile)\n"
   ]
  },
  {
   "cell_type": "code",
   "execution_count": 9,
   "metadata": {},
   "outputs": [
    {
     "output_type": "stream",
     "name": "stdout",
     "text": [
      "(1586614, 13)\n['data']\n"
     ]
    }
   ],
   "source": [
    "from src.utils.misc import get_name\n",
    "\n",
    "print(data.shape)\n",
    "print(get_name(data, globals()))"
   ]
  },
  {
   "cell_type": "code",
   "execution_count": 10,
   "metadata": {},
   "outputs": [],
   "source": [
    "data_upd = data.copy()"
   ]
  },
  {
   "cell_type": "code",
   "execution_count": 11,
   "metadata": {},
   "outputs": [],
   "source": [
    "from src.data.set_data import sel_feat_cols\n",
    "\n",
    "data_upd = sel_feat_cols(data_upd, [\"brewery_name\",\"review_aroma\",\"review_appearance\",\"review_palate\",\"review_taste\",\"beer_style\"])"
   ]
  },
  {
   "cell_type": "code",
   "execution_count": 12,
   "metadata": {},
   "outputs": [
    {
     "output_type": "stream",
     "name": "stdout",
     "text": [
      "(1586614,)\n(1586614, 5)\n"
     ]
    }
   ],
   "source": [
    "from src.data.set_data import pop_target\n",
    "\n",
    "feat, targ = pop_target(data_upd, \"beer_style\")\n",
    "\n",
    "print(targ.shape)\n",
    "print(feat.shape)"
   ]
  },
  {
   "cell_type": "code",
   "execution_count": 13,
   "metadata": {},
   "outputs": [
    {
     "output_type": "execute_result",
     "data": {
      "text/plain": [
       "                        brewery_name  review_aroma  review_appearance  \\\n",
       "0                    Vecchio Birraio           2.0                2.5   \n",
       "1                    Vecchio Birraio           2.5                3.0   \n",
       "2                    Vecchio Birraio           2.5                3.0   \n",
       "3                    Vecchio Birraio           3.0                3.5   \n",
       "4            Caldera Brewing Company           4.5                4.0   \n",
       "...                              ...           ...                ...   \n",
       "1586609  The Defiant Brewing Company           4.0                3.5   \n",
       "1586610  The Defiant Brewing Company           5.0                2.5   \n",
       "1586611  The Defiant Brewing Company           3.5                3.0   \n",
       "1586612  The Defiant Brewing Company           4.5                4.5   \n",
       "1586613  The Defiant Brewing Company           4.5                4.5   \n",
       "\n",
       "         review_palate  review_taste  \n",
       "0                  1.5           1.5  \n",
       "1                  3.0           3.0  \n",
       "2                  3.0           3.0  \n",
       "3                  2.5           3.0  \n",
       "4                  4.0           4.5  \n",
       "...                ...           ...  \n",
       "1586609            4.0           4.0  \n",
       "1586610            2.0           4.0  \n",
       "1586611            3.5           4.0  \n",
       "1586612            4.5           4.5  \n",
       "1586613            4.5           4.5  \n",
       "\n",
       "[1586614 rows x 5 columns]"
      ],
      "text/html": "<div>\n<style scoped>\n    .dataframe tbody tr th:only-of-type {\n        vertical-align: middle;\n    }\n\n    .dataframe tbody tr th {\n        vertical-align: top;\n    }\n\n    .dataframe thead th {\n        text-align: right;\n    }\n</style>\n<table border=\"1\" class=\"dataframe\">\n  <thead>\n    <tr style=\"text-align: right;\">\n      <th></th>\n      <th>brewery_name</th>\n      <th>review_aroma</th>\n      <th>review_appearance</th>\n      <th>review_palate</th>\n      <th>review_taste</th>\n    </tr>\n  </thead>\n  <tbody>\n    <tr>\n      <th>0</th>\n      <td>Vecchio Birraio</td>\n      <td>2.0</td>\n      <td>2.5</td>\n      <td>1.5</td>\n      <td>1.5</td>\n    </tr>\n    <tr>\n      <th>1</th>\n      <td>Vecchio Birraio</td>\n      <td>2.5</td>\n      <td>3.0</td>\n      <td>3.0</td>\n      <td>3.0</td>\n    </tr>\n    <tr>\n      <th>2</th>\n      <td>Vecchio Birraio</td>\n      <td>2.5</td>\n      <td>3.0</td>\n      <td>3.0</td>\n      <td>3.0</td>\n    </tr>\n    <tr>\n      <th>3</th>\n      <td>Vecchio Birraio</td>\n      <td>3.0</td>\n      <td>3.5</td>\n      <td>2.5</td>\n      <td>3.0</td>\n    </tr>\n    <tr>\n      <th>4</th>\n      <td>Caldera Brewing Company</td>\n      <td>4.5</td>\n      <td>4.0</td>\n      <td>4.0</td>\n      <td>4.5</td>\n    </tr>\n    <tr>\n      <th>...</th>\n      <td>...</td>\n      <td>...</td>\n      <td>...</td>\n      <td>...</td>\n      <td>...</td>\n    </tr>\n    <tr>\n      <th>1586609</th>\n      <td>The Defiant Brewing Company</td>\n      <td>4.0</td>\n      <td>3.5</td>\n      <td>4.0</td>\n      <td>4.0</td>\n    </tr>\n    <tr>\n      <th>1586610</th>\n      <td>The Defiant Brewing Company</td>\n      <td>5.0</td>\n      <td>2.5</td>\n      <td>2.0</td>\n      <td>4.0</td>\n    </tr>\n    <tr>\n      <th>1586611</th>\n      <td>The Defiant Brewing Company</td>\n      <td>3.5</td>\n      <td>3.0</td>\n      <td>3.5</td>\n      <td>4.0</td>\n    </tr>\n    <tr>\n      <th>1586612</th>\n      <td>The Defiant Brewing Company</td>\n      <td>4.5</td>\n      <td>4.5</td>\n      <td>4.5</td>\n      <td>4.5</td>\n    </tr>\n    <tr>\n      <th>1586613</th>\n      <td>The Defiant Brewing Company</td>\n      <td>4.5</td>\n      <td>4.5</td>\n      <td>4.5</td>\n      <td>4.5</td>\n    </tr>\n  </tbody>\n</table>\n<p>1586614 rows × 5 columns</p>\n</div>"
     },
     "metadata": {},
     "execution_count": 13
    }
   ],
   "source": [
    "data_upd"
   ]
  },
  {
   "cell_type": "code",
   "execution_count": 14,
   "metadata": {},
   "outputs": [
    {
     "output_type": "stream",
     "name": "stdout",
     "text": [
      "feat_trn :  777440 5\ntarg_trn :  777440\nfeat_val :  333189 5\ntarg_val :  333189\nfeat_tst :  475985 5\ntarg_tst :  475985\n"
     ]
    },
    {
     "output_type": "execute_result",
     "data": {
      "text/plain": [
       "[None, None, None, None, None, None]"
      ]
     },
     "metadata": {},
     "execution_count": 14
    }
   ],
   "source": [
    "from src.data.set_data import split_data\n",
    "from src.utils.misc import get_shape\n",
    "feat_trn, feat_tst, targ_trn, targ_tst = split_data(feat, targ, test_size=0.3)\n",
    "feat_trn, feat_val, targ_trn, targ_val = split_data(feat_trn, targ_trn, test_size=0.3)\n",
    "\n",
    "[print(data, \": \", get_shape(eval(data), True)) for data in [\"feat_trn\", \"targ_trn\", \"feat_val\", \"targ_val\", \"feat_tst\", \"targ_tst\"]]"
   ]
  },
  {
   "cell_type": "code",
   "execution_count": 15,
   "metadata": {},
   "outputs": [
    {
     "output_type": "execute_result",
     "data": {
      "text/plain": [
       "                                     brewery_name  review_aroma  \\\n",
       "1008712                         Ostankino Brewery           3.5   \n",
       "1312749                            Anheuser-Busch           2.0   \n",
       "118997   Genesee Brewing Co. / Dundee Brewing Co.           3.5   \n",
       "523550       Samuel Smith Old Brewery (Tadcaster)           4.0   \n",
       "271698                         Flying Dog Brewery           3.5   \n",
       "...                                           ...           ...   \n",
       "1367338                 Lagunitas Brewing Company           3.5   \n",
       "800633                             The Lost Abbey           4.5   \n",
       "1249000                       Great Lakes Brewery           4.0   \n",
       "456096                                Le Grimoire           1.5   \n",
       "240421              Brouwerij Van Steenberge N.V.           4.0   \n",
       "\n",
       "         review_appearance  review_palate  review_taste  \n",
       "1008712                4.0            3.5           4.0  \n",
       "1312749                2.0            2.0           2.0  \n",
       "118997                 3.0            3.5           3.5  \n",
       "523550                 4.5            4.5           4.5  \n",
       "271698                 4.0            3.5           3.5  \n",
       "...                    ...            ...           ...  \n",
       "1367338                3.0            4.0           3.5  \n",
       "800633                 4.5            4.0           4.0  \n",
       "1249000                4.5            4.0           4.0  \n",
       "456096                 1.5            1.0           1.0  \n",
       "240421                 4.0            4.0           4.5  \n",
       "\n",
       "[777440 rows x 5 columns]"
      ],
      "text/html": "<div>\n<style scoped>\n    .dataframe tbody tr th:only-of-type {\n        vertical-align: middle;\n    }\n\n    .dataframe tbody tr th {\n        vertical-align: top;\n    }\n\n    .dataframe thead th {\n        text-align: right;\n    }\n</style>\n<table border=\"1\" class=\"dataframe\">\n  <thead>\n    <tr style=\"text-align: right;\">\n      <th></th>\n      <th>brewery_name</th>\n      <th>review_aroma</th>\n      <th>review_appearance</th>\n      <th>review_palate</th>\n      <th>review_taste</th>\n    </tr>\n  </thead>\n  <tbody>\n    <tr>\n      <th>1008712</th>\n      <td>Ostankino Brewery</td>\n      <td>3.5</td>\n      <td>4.0</td>\n      <td>3.5</td>\n      <td>4.0</td>\n    </tr>\n    <tr>\n      <th>1312749</th>\n      <td>Anheuser-Busch</td>\n      <td>2.0</td>\n      <td>2.0</td>\n      <td>2.0</td>\n      <td>2.0</td>\n    </tr>\n    <tr>\n      <th>118997</th>\n      <td>Genesee Brewing Co. / Dundee Brewing Co.</td>\n      <td>3.5</td>\n      <td>3.0</td>\n      <td>3.5</td>\n      <td>3.5</td>\n    </tr>\n    <tr>\n      <th>523550</th>\n      <td>Samuel Smith Old Brewery (Tadcaster)</td>\n      <td>4.0</td>\n      <td>4.5</td>\n      <td>4.5</td>\n      <td>4.5</td>\n    </tr>\n    <tr>\n      <th>271698</th>\n      <td>Flying Dog Brewery</td>\n      <td>3.5</td>\n      <td>4.0</td>\n      <td>3.5</td>\n      <td>3.5</td>\n    </tr>\n    <tr>\n      <th>...</th>\n      <td>...</td>\n      <td>...</td>\n      <td>...</td>\n      <td>...</td>\n      <td>...</td>\n    </tr>\n    <tr>\n      <th>1367338</th>\n      <td>Lagunitas Brewing Company</td>\n      <td>3.5</td>\n      <td>3.0</td>\n      <td>4.0</td>\n      <td>3.5</td>\n    </tr>\n    <tr>\n      <th>800633</th>\n      <td>The Lost Abbey</td>\n      <td>4.5</td>\n      <td>4.5</td>\n      <td>4.0</td>\n      <td>4.0</td>\n    </tr>\n    <tr>\n      <th>1249000</th>\n      <td>Great Lakes Brewery</td>\n      <td>4.0</td>\n      <td>4.5</td>\n      <td>4.0</td>\n      <td>4.0</td>\n    </tr>\n    <tr>\n      <th>456096</th>\n      <td>Le Grimoire</td>\n      <td>1.5</td>\n      <td>1.5</td>\n      <td>1.0</td>\n      <td>1.0</td>\n    </tr>\n    <tr>\n      <th>240421</th>\n      <td>Brouwerij Van Steenberge N.V.</td>\n      <td>4.0</td>\n      <td>4.0</td>\n      <td>4.0</td>\n      <td>4.5</td>\n    </tr>\n  </tbody>\n</table>\n<p>777440 rows × 5 columns</p>\n</div>"
     },
     "metadata": {},
     "execution_count": 15
    }
   ],
   "source": [
    "feat_trn"
   ]
  },
  {
   "cell_type": "code",
   "execution_count": 18,
   "metadata": {
    "tags": []
   },
   "outputs": [
    {
     "output_type": "stream",
     "name": "stdout",
     "text": [
      "5205\n"
     ]
    }
   ],
   "source": [
    "print(len(set(feat_trn[\"brewery_name\"])))"
   ]
  },
  {
   "cell_type": "code",
   "execution_count": 16,
   "metadata": {},
   "outputs": [
    {
     "output_type": "stream",
     "name": "stdout",
     "text": [
      "['brewery_name']\nIndex(['brewery_name', 'review_aroma', 'review_appearance', 'review_palate',\n       'review_taste'],\n      dtype='object')\n"
     ]
    },
    {
     "output_type": "error",
     "ename": "MemoryError",
     "evalue": "Unable to allocate 30.1 GiB for an array with shape (777440, 5205) and data type float64",
     "traceback": [
      "\u001b[1;31m---------------------------------------------------------------------------\u001b[0m",
      "\u001b[1;31mMemoryError\u001b[0m                               Traceback (most recent call last)",
      "\u001b[1;32m<ipython-input-16-cf43f13c272f>\u001b[0m in \u001b[0;36m<module>\u001b[1;34m\u001b[0m\n\u001b[0;32m      1\u001b[0m \u001b[1;32mfrom\u001b[0m \u001b[0msrc\u001b[0m\u001b[1;33m.\u001b[0m\u001b[0mdata\u001b[0m\u001b[1;33m.\u001b[0m\u001b[0mset_data\u001b[0m \u001b[1;32mimport\u001b[0m \u001b[0mmake_ohe\u001b[0m\u001b[1;33m\u001b[0m\u001b[1;33m\u001b[0m\u001b[0m\n\u001b[0;32m      2\u001b[0m \u001b[1;33m\u001b[0m\u001b[0m\n\u001b[1;32m----> 3\u001b[1;33m \u001b[0mdisplay\u001b[0m\u001b[1;33m(\u001b[0m\u001b[0mmake_ohe\u001b[0m\u001b[1;33m(\u001b[0m\u001b[0mfeat_trn\u001b[0m\u001b[1;33m,\u001b[0m \u001b[1;33m[\u001b[0m\u001b[1;34m\"brewery_name\"\u001b[0m\u001b[1;33m]\u001b[0m\u001b[1;33m)\u001b[0m\u001b[1;33m)\u001b[0m\u001b[1;33m\u001b[0m\u001b[1;33m\u001b[0m\u001b[0m\n\u001b[0m",
      "\u001b[1;32mc:\\Users\\CHMAHONE\\OneDrive - Schenker AG\\Documents\\Git Repos\\BeerPrediction\\src\\data\\set_data.py\u001b[0m in \u001b[0;36mmake_ohe\u001b[1;34m(feat, cols)\u001b[0m\n\u001b[0;32m    122\u001b[0m     \u001b[1;31m# Do work\u001b[0m\u001b[1;33m\u001b[0m\u001b[1;33m\u001b[0m\u001b[1;33m\u001b[0m\u001b[0m\n\u001b[0;32m    123\u001b[0m     \u001b[0mdata\u001b[0m \u001b[1;33m=\u001b[0m \u001b[0mfeat\u001b[0m\u001b[1;33m[\u001b[0m\u001b[0mcols\u001b[0m\u001b[1;33m]\u001b[0m\u001b[1;33m\u001b[0m\u001b[1;33m\u001b[0m\u001b[0m\n\u001b[1;32m--> 124\u001b[1;33m     \u001b[0mdata\u001b[0m \u001b[1;33m=\u001b[0m \u001b[0mohe\u001b[0m\u001b[1;33m.\u001b[0m\u001b[0mfit_transform\u001b[0m\u001b[1;33m(\u001b[0m\u001b[0mdata\u001b[0m\u001b[1;33m)\u001b[0m\u001b[1;33m\u001b[0m\u001b[1;33m\u001b[0m\u001b[0m\n\u001b[0m\u001b[0;32m    125\u001b[0m     \u001b[0mdata\u001b[0m \u001b[1;33m=\u001b[0m \u001b[0mpd\u001b[0m\u001b[1;33m.\u001b[0m\u001b[0mDataFrame\u001b[0m\u001b[1;33m(\u001b[0m\u001b[0mdata\u001b[0m\u001b[1;33m)\u001b[0m\u001b[1;33m\u001b[0m\u001b[1;33m\u001b[0m\u001b[0m\n\u001b[0;32m    126\u001b[0m     \u001b[0mdata\u001b[0m\u001b[1;33m.\u001b[0m\u001b[0mcolumns\u001b[0m \u001b[1;33m=\u001b[0m \u001b[0mohe\u001b[0m\u001b[1;33m.\u001b[0m\u001b[0mget_feature_names\u001b[0m\u001b[1;33m(\u001b[0m\u001b[0mcols\u001b[0m\u001b[1;33m)\u001b[0m\u001b[1;33m\u001b[0m\u001b[1;33m\u001b[0m\u001b[0m\n",
      "\u001b[1;32m~\\.virtualenvs\\BeerPrediction-QB__piRt\\lib\\site-packages\\sklearn\\preprocessing\\_encoders.py\u001b[0m in \u001b[0;36mfit_transform\u001b[1;34m(self, X, y)\u001b[0m\n\u001b[0;32m    441\u001b[0m         \"\"\"\n\u001b[0;32m    442\u001b[0m         \u001b[0mself\u001b[0m\u001b[1;33m.\u001b[0m\u001b[0m_validate_keywords\u001b[0m\u001b[1;33m(\u001b[0m\u001b[1;33m)\u001b[0m\u001b[1;33m\u001b[0m\u001b[1;33m\u001b[0m\u001b[0m\n\u001b[1;32m--> 443\u001b[1;33m         \u001b[1;32mreturn\u001b[0m \u001b[0msuper\u001b[0m\u001b[1;33m(\u001b[0m\u001b[1;33m)\u001b[0m\u001b[1;33m.\u001b[0m\u001b[0mfit_transform\u001b[0m\u001b[1;33m(\u001b[0m\u001b[0mX\u001b[0m\u001b[1;33m,\u001b[0m \u001b[0my\u001b[0m\u001b[1;33m)\u001b[0m\u001b[1;33m\u001b[0m\u001b[1;33m\u001b[0m\u001b[0m\n\u001b[0m\u001b[0;32m    444\u001b[0m \u001b[1;33m\u001b[0m\u001b[0m\n\u001b[0;32m    445\u001b[0m     \u001b[1;32mdef\u001b[0m \u001b[0mtransform\u001b[0m\u001b[1;33m(\u001b[0m\u001b[0mself\u001b[0m\u001b[1;33m,\u001b[0m \u001b[0mX\u001b[0m\u001b[1;33m)\u001b[0m\u001b[1;33m:\u001b[0m\u001b[1;33m\u001b[0m\u001b[1;33m\u001b[0m\u001b[0m\n",
      "\u001b[1;32m~\\.virtualenvs\\BeerPrediction-QB__piRt\\lib\\site-packages\\sklearn\\base.py\u001b[0m in \u001b[0;36mfit_transform\u001b[1;34m(self, X, y, **fit_params)\u001b[0m\n\u001b[0;32m    697\u001b[0m         \u001b[1;32mif\u001b[0m \u001b[0my\u001b[0m \u001b[1;32mis\u001b[0m \u001b[1;32mNone\u001b[0m\u001b[1;33m:\u001b[0m\u001b[1;33m\u001b[0m\u001b[1;33m\u001b[0m\u001b[0m\n\u001b[0;32m    698\u001b[0m             \u001b[1;31m# fit method of arity 1 (unsupervised transformation)\u001b[0m\u001b[1;33m\u001b[0m\u001b[1;33m\u001b[0m\u001b[1;33m\u001b[0m\u001b[0m\n\u001b[1;32m--> 699\u001b[1;33m             \u001b[1;32mreturn\u001b[0m \u001b[0mself\u001b[0m\u001b[1;33m.\u001b[0m\u001b[0mfit\u001b[0m\u001b[1;33m(\u001b[0m\u001b[0mX\u001b[0m\u001b[1;33m,\u001b[0m \u001b[1;33m**\u001b[0m\u001b[0mfit_params\u001b[0m\u001b[1;33m)\u001b[0m\u001b[1;33m.\u001b[0m\u001b[0mtransform\u001b[0m\u001b[1;33m(\u001b[0m\u001b[0mX\u001b[0m\u001b[1;33m)\u001b[0m\u001b[1;33m\u001b[0m\u001b[1;33m\u001b[0m\u001b[0m\n\u001b[0m\u001b[0;32m    700\u001b[0m         \u001b[1;32melse\u001b[0m\u001b[1;33m:\u001b[0m\u001b[1;33m\u001b[0m\u001b[1;33m\u001b[0m\u001b[0m\n\u001b[0;32m    701\u001b[0m             \u001b[1;31m# fit method of arity 2 (supervised transformation)\u001b[0m\u001b[1;33m\u001b[0m\u001b[1;33m\u001b[0m\u001b[1;33m\u001b[0m\u001b[0m\n",
      "\u001b[1;32m~\\.virtualenvs\\BeerPrediction-QB__piRt\\lib\\site-packages\\sklearn\\preprocessing\\_encoders.py\u001b[0m in \u001b[0;36mtransform\u001b[1;34m(self, X)\u001b[0m\n\u001b[0;32m    501\u001b[0m                                 dtype=self.dtype)\n\u001b[0;32m    502\u001b[0m         \u001b[1;32mif\u001b[0m \u001b[1;32mnot\u001b[0m \u001b[0mself\u001b[0m\u001b[1;33m.\u001b[0m\u001b[0msparse\u001b[0m\u001b[1;33m:\u001b[0m\u001b[1;33m\u001b[0m\u001b[1;33m\u001b[0m\u001b[0m\n\u001b[1;32m--> 503\u001b[1;33m             \u001b[1;32mreturn\u001b[0m \u001b[0mout\u001b[0m\u001b[1;33m.\u001b[0m\u001b[0mtoarray\u001b[0m\u001b[1;33m(\u001b[0m\u001b[1;33m)\u001b[0m\u001b[1;33m\u001b[0m\u001b[1;33m\u001b[0m\u001b[0m\n\u001b[0m\u001b[0;32m    504\u001b[0m         \u001b[1;32melse\u001b[0m\u001b[1;33m:\u001b[0m\u001b[1;33m\u001b[0m\u001b[1;33m\u001b[0m\u001b[0m\n\u001b[0;32m    505\u001b[0m             \u001b[1;32mreturn\u001b[0m \u001b[0mout\u001b[0m\u001b[1;33m\u001b[0m\u001b[1;33m\u001b[0m\u001b[0m\n",
      "\u001b[1;32m~\\.virtualenvs\\BeerPrediction-QB__piRt\\lib\\site-packages\\scipy\\sparse\\compressed.py\u001b[0m in \u001b[0;36mtoarray\u001b[1;34m(self, order, out)\u001b[0m\n\u001b[0;32m   1029\u001b[0m         \u001b[1;32mif\u001b[0m \u001b[0mout\u001b[0m \u001b[1;32mis\u001b[0m \u001b[1;32mNone\u001b[0m \u001b[1;32mand\u001b[0m \u001b[0morder\u001b[0m \u001b[1;32mis\u001b[0m \u001b[1;32mNone\u001b[0m\u001b[1;33m:\u001b[0m\u001b[1;33m\u001b[0m\u001b[1;33m\u001b[0m\u001b[0m\n\u001b[0;32m   1030\u001b[0m             \u001b[0morder\u001b[0m \u001b[1;33m=\u001b[0m \u001b[0mself\u001b[0m\u001b[1;33m.\u001b[0m\u001b[0m_swap\u001b[0m\u001b[1;33m(\u001b[0m\u001b[1;34m'cf'\u001b[0m\u001b[1;33m)\u001b[0m\u001b[1;33m[\u001b[0m\u001b[1;36m0\u001b[0m\u001b[1;33m]\u001b[0m\u001b[1;33m\u001b[0m\u001b[1;33m\u001b[0m\u001b[0m\n\u001b[1;32m-> 1031\u001b[1;33m         \u001b[0mout\u001b[0m \u001b[1;33m=\u001b[0m \u001b[0mself\u001b[0m\u001b[1;33m.\u001b[0m\u001b[0m_process_toarray_args\u001b[0m\u001b[1;33m(\u001b[0m\u001b[0morder\u001b[0m\u001b[1;33m,\u001b[0m \u001b[0mout\u001b[0m\u001b[1;33m)\u001b[0m\u001b[1;33m\u001b[0m\u001b[1;33m\u001b[0m\u001b[0m\n\u001b[0m\u001b[0;32m   1032\u001b[0m         \u001b[1;32mif\u001b[0m \u001b[1;32mnot\u001b[0m \u001b[1;33m(\u001b[0m\u001b[0mout\u001b[0m\u001b[1;33m.\u001b[0m\u001b[0mflags\u001b[0m\u001b[1;33m.\u001b[0m\u001b[0mc_contiguous\u001b[0m \u001b[1;32mor\u001b[0m \u001b[0mout\u001b[0m\u001b[1;33m.\u001b[0m\u001b[0mflags\u001b[0m\u001b[1;33m.\u001b[0m\u001b[0mf_contiguous\u001b[0m\u001b[1;33m)\u001b[0m\u001b[1;33m:\u001b[0m\u001b[1;33m\u001b[0m\u001b[1;33m\u001b[0m\u001b[0m\n\u001b[0;32m   1033\u001b[0m             \u001b[1;32mraise\u001b[0m \u001b[0mValueError\u001b[0m\u001b[1;33m(\u001b[0m\u001b[1;34m'Output array must be C or F contiguous'\u001b[0m\u001b[1;33m)\u001b[0m\u001b[1;33m\u001b[0m\u001b[1;33m\u001b[0m\u001b[0m\n",
      "\u001b[1;32m~\\.virtualenvs\\BeerPrediction-QB__piRt\\lib\\site-packages\\scipy\\sparse\\base.py\u001b[0m in \u001b[0;36m_process_toarray_args\u001b[1;34m(self, order, out)\u001b[0m\n\u001b[0;32m   1200\u001b[0m             \u001b[1;32mreturn\u001b[0m \u001b[0mout\u001b[0m\u001b[1;33m\u001b[0m\u001b[1;33m\u001b[0m\u001b[0m\n\u001b[0;32m   1201\u001b[0m         \u001b[1;32melse\u001b[0m\u001b[1;33m:\u001b[0m\u001b[1;33m\u001b[0m\u001b[1;33m\u001b[0m\u001b[0m\n\u001b[1;32m-> 1202\u001b[1;33m             \u001b[1;32mreturn\u001b[0m \u001b[0mnp\u001b[0m\u001b[1;33m.\u001b[0m\u001b[0mzeros\u001b[0m\u001b[1;33m(\u001b[0m\u001b[0mself\u001b[0m\u001b[1;33m.\u001b[0m\u001b[0mshape\u001b[0m\u001b[1;33m,\u001b[0m \u001b[0mdtype\u001b[0m\u001b[1;33m=\u001b[0m\u001b[0mself\u001b[0m\u001b[1;33m.\u001b[0m\u001b[0mdtype\u001b[0m\u001b[1;33m,\u001b[0m \u001b[0morder\u001b[0m\u001b[1;33m=\u001b[0m\u001b[0morder\u001b[0m\u001b[1;33m)\u001b[0m\u001b[1;33m\u001b[0m\u001b[1;33m\u001b[0m\u001b[0m\n\u001b[0m\u001b[0;32m   1203\u001b[0m \u001b[1;33m\u001b[0m\u001b[0m\n\u001b[0;32m   1204\u001b[0m \u001b[1;33m\u001b[0m\u001b[0m\n",
      "\u001b[1;31mMemoryError\u001b[0m: Unable to allocate 30.1 GiB for an array with shape (777440, 5205) and data type float64"
     ]
    }
   ],
   "source": [
    "from src.data.set_data import make_ohe\n",
    "\n",
    "display(make_ohe(feat_trn, \"brewery_name\"))"
   ]
  }
 ]
}