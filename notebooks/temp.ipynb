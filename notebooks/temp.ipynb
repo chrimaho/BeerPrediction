{
 "metadata": {
  "language_info": {
   "codemirror_mode": {
    "name": "ipython",
    "version": 3
   },
   "file_extension": ".py",
   "mimetype": "text/x-python",
   "name": "python",
   "nbconvert_exporter": "python",
   "pygments_lexer": "ipython3",
   "version": "3.7.4-final"
  },
  "orig_nbformat": 2,
  "kernelspec": {
   "name": "python3",
   "display_name": "Python 3",
   "language": "python"
  }
 },
 "nbformat": 4,
 "nbformat_minor": 2,
 "cells": [
  {
   "cell_type": "code",
   "execution_count": 1,
   "metadata": {},
   "outputs": [],
   "source": [
    "# The usuals\n",
    "import os\n",
    "import sys\n",
    "import subprocess\n",
    "import pandas as pd\n",
    "import numpy as np\n",
    "\n",
    "# Useful stuff\n",
    "from zipfile import ZipFile\n",
    "from joblib import dump, load\n",
    "from pprint import pprint\n",
    "from pandas_profiling import ProfileReport\n",
    "from IPython.display import IFrame\n",
    "import random\n",
    "from statistics import mode\n",
    "from datetime import datetime\n",
    "from scipy.stats import uniform, randint\n",
    "\n",
    "# SkLearn bits\n",
    "from sklearn.preprocessing import StandardScaler\n",
    "from sklearn.model_selection import train_test_split\n",
    "\n",
    "# PyTorch bits\n",
    "import torch\n",
    "from torch import nn\n",
    "from torch.nn import functional as F\n",
    "\n",
    "# Autoreload\n",
    "%load_ext autoreload\n",
    "%autoreload"
   ]
  },
  {
   "cell_type": "code",
   "execution_count": 2,
   "metadata": {},
   "outputs": [],
   "source": [
    "# https://drive.google.com/u/0/uc?export=download&confirm=IpWH&id=1vYyJL_IB6KjKCxuk9kg4vIMPGTtoX8Ek"
   ]
  },
  {
   "cell_type": "code",
   "execution_count": 3,
   "metadata": {},
   "outputs": [],
   "source": [
    "# Ensure the directory is correct... every time.\n",
    "for i in range(5):\n",
    "    if not os.getcwd().lower() == subprocess.run(\"git rev-parse --show-toplevel\", stdout=subprocess.PIPE).stdout.decode(\"utf-8\").replace(\"/\",\"\\\\\").strip().lower():\n",
    "        os.chdir(\"..\"),\n",
    "    else:\n",
    "        break"
   ]
  },
  {
   "cell_type": "code",
   "execution_count": 4,
   "metadata": {},
   "outputs": [],
   "source": [
    "# Set up sys path environment\n",
    "if not os.path.abspath(\".\") in sys.path:\n",
    "    sys.path.append(os.path.abspath(\".\"))\n",
    "else:\n",
    "    sys.path.remove(os.path.abspath(\".\"))\n",
    "    sys.path.append(os.path.abspath(\".\"))"
   ]
  },
  {
   "cell_type": "code",
   "execution_count": 5,
   "metadata": {},
   "outputs": [
    {
     "output_type": "stream",
     "name": "stdout",
     "text": [
      "c:\\Users\\chris\\OneDrive\\02 - Education\\07 - MDSI\\09 - ADSI\\07 - GitHub Repo\\BeerPrediction\n"
     ]
    }
   ],
   "source": [
    "print(os.getcwd())"
   ]
  },
  {
   "cell_type": "code",
   "execution_count": 18,
   "metadata": {},
   "outputs": [],
   "source": [
    "data = pd.read_csv(\"./data/raw/beer_reviews.csv\")"
   ]
  },
  {
   "cell_type": "code",
   "execution_count": 19,
   "metadata": {},
   "outputs": [
    {
     "output_type": "stream",
     "name": "stdout",
     "text": [
      "(1586614, 13)\nIndex(['brewery_id', 'brewery_name', 'review_time', 'review_overall',\n       'review_aroma', 'review_appearance', 'review_profilename', 'beer_style',\n       'review_palate', 'review_taste', 'beer_name', 'beer_abv',\n       'beer_beerid'],\n      dtype='object')\n"
     ]
    },
    {
     "output_type": "display_data",
     "data": {
      "text/plain": "         brewery_id   review_time  review_overall  review_aroma  \\\ncount  1.586614e+06  1.586614e+06    1.586614e+06  1.586614e+06   \nmean   3.130099e+03  1.224089e+09    3.815581e+00  3.735636e+00   \nstd    5.578104e+03  7.654427e+07    7.206219e-01  6.976167e-01   \nmin    1.000000e+00  8.406720e+08    0.000000e+00  1.000000e+00   \n25%    1.430000e+02  1.173224e+09    3.500000e+00  3.500000e+00   \n50%    4.290000e+02  1.239203e+09    4.000000e+00  4.000000e+00   \n75%    2.372000e+03  1.288568e+09    4.500000e+00  4.000000e+00   \nmax    2.800300e+04  1.326285e+09    5.000000e+00  5.000000e+00   \n\n       review_appearance  review_palate  review_taste      beer_abv  \\\ncount       1.586614e+06   1.586614e+06  1.586614e+06  1.518829e+06   \nmean        3.841642e+00   3.743701e+00  3.792860e+00  7.042387e+00   \nstd         6.160928e-01   6.822184e-01  7.319696e-01  2.322526e+00   \nmin         0.000000e+00   1.000000e+00  1.000000e+00  1.000000e-02   \n25%         3.500000e+00   3.500000e+00  3.500000e+00  5.200000e+00   \n50%         4.000000e+00   4.000000e+00  4.000000e+00  6.500000e+00   \n75%         4.000000e+00   4.000000e+00  4.500000e+00  8.500000e+00   \nmax         5.000000e+00   5.000000e+00  5.000000e+00  5.770000e+01   \n\n        beer_beerid  \ncount  1.586614e+06  \nmean   2.171279e+04  \nstd    2.181834e+04  \nmin    3.000000e+00  \n25%    1.717000e+03  \n50%    1.390600e+04  \n75%    3.944100e+04  \nmax    7.731700e+04  ",
      "text/html": "<div>\n<style scoped>\n    .dataframe tbody tr th:only-of-type {\n        vertical-align: middle;\n    }\n\n    .dataframe tbody tr th {\n        vertical-align: top;\n    }\n\n    .dataframe thead th {\n        text-align: right;\n    }\n</style>\n<table border=\"1\" class=\"dataframe\">\n  <thead>\n    <tr style=\"text-align: right;\">\n      <th></th>\n      <th>brewery_id</th>\n      <th>review_time</th>\n      <th>review_overall</th>\n      <th>review_aroma</th>\n      <th>review_appearance</th>\n      <th>review_palate</th>\n      <th>review_taste</th>\n      <th>beer_abv</th>\n      <th>beer_beerid</th>\n    </tr>\n  </thead>\n  <tbody>\n    <tr>\n      <th>count</th>\n      <td>1.586614e+06</td>\n      <td>1.586614e+06</td>\n      <td>1.586614e+06</td>\n      <td>1.586614e+06</td>\n      <td>1.586614e+06</td>\n      <td>1.586614e+06</td>\n      <td>1.586614e+06</td>\n      <td>1.518829e+06</td>\n      <td>1.586614e+06</td>\n    </tr>\n    <tr>\n      <th>mean</th>\n      <td>3.130099e+03</td>\n      <td>1.224089e+09</td>\n      <td>3.815581e+00</td>\n      <td>3.735636e+00</td>\n      <td>3.841642e+00</td>\n      <td>3.743701e+00</td>\n      <td>3.792860e+00</td>\n      <td>7.042387e+00</td>\n      <td>2.171279e+04</td>\n    </tr>\n    <tr>\n      <th>std</th>\n      <td>5.578104e+03</td>\n      <td>7.654427e+07</td>\n      <td>7.206219e-01</td>\n      <td>6.976167e-01</td>\n      <td>6.160928e-01</td>\n      <td>6.822184e-01</td>\n      <td>7.319696e-01</td>\n      <td>2.322526e+00</td>\n      <td>2.181834e+04</td>\n    </tr>\n    <tr>\n      <th>min</th>\n      <td>1.000000e+00</td>\n      <td>8.406720e+08</td>\n      <td>0.000000e+00</td>\n      <td>1.000000e+00</td>\n      <td>0.000000e+00</td>\n      <td>1.000000e+00</td>\n      <td>1.000000e+00</td>\n      <td>1.000000e-02</td>\n      <td>3.000000e+00</td>\n    </tr>\n    <tr>\n      <th>25%</th>\n      <td>1.430000e+02</td>\n      <td>1.173224e+09</td>\n      <td>3.500000e+00</td>\n      <td>3.500000e+00</td>\n      <td>3.500000e+00</td>\n      <td>3.500000e+00</td>\n      <td>3.500000e+00</td>\n      <td>5.200000e+00</td>\n      <td>1.717000e+03</td>\n    </tr>\n    <tr>\n      <th>50%</th>\n      <td>4.290000e+02</td>\n      <td>1.239203e+09</td>\n      <td>4.000000e+00</td>\n      <td>4.000000e+00</td>\n      <td>4.000000e+00</td>\n      <td>4.000000e+00</td>\n      <td>4.000000e+00</td>\n      <td>6.500000e+00</td>\n      <td>1.390600e+04</td>\n    </tr>\n    <tr>\n      <th>75%</th>\n      <td>2.372000e+03</td>\n      <td>1.288568e+09</td>\n      <td>4.500000e+00</td>\n      <td>4.000000e+00</td>\n      <td>4.000000e+00</td>\n      <td>4.000000e+00</td>\n      <td>4.500000e+00</td>\n      <td>8.500000e+00</td>\n      <td>3.944100e+04</td>\n    </tr>\n    <tr>\n      <th>max</th>\n      <td>2.800300e+04</td>\n      <td>1.326285e+09</td>\n      <td>5.000000e+00</td>\n      <td>5.000000e+00</td>\n      <td>5.000000e+00</td>\n      <td>5.000000e+00</td>\n      <td>5.000000e+00</td>\n      <td>5.770000e+01</td>\n      <td>7.731700e+04</td>\n    </tr>\n  </tbody>\n</table>\n</div>"
     },
     "metadata": {}
    }
   ],
   "source": [
    "print(data.shape)\n",
    "print(data.columns)\n",
    "display(data.describe())"
   ]
  },
  {
   "cell_type": "code",
   "execution_count": 20,
   "metadata": {},
   "outputs": [],
   "source": [
    "# from pandas_profiling import ProfileReport\n",
    "\n",
    "# # Create profile report\n",
    "# profile = ProfileReport(data, title=\"Profile Report\")\n",
    "# # Export\n",
    "# profile.to_file(\"./reports/InitialReport.html\")\n",
    "# # View\n",
    "# display(profile)\n"
   ]
  },
  {
   "cell_type": "code",
   "execution_count": 21,
   "metadata": {},
   "outputs": [],
   "source": [
    "data_upd = data.copy()"
   ]
  },
  {
   "cell_type": "code",
   "execution_count": 22,
   "metadata": {},
   "outputs": [
    {
     "output_type": "stream",
     "name": "stdout",
     "text": [
      "Index(['brewery_id', 'brewery_name', 'review_time', 'review_overall',\n       'review_aroma', 'review_appearance', 'review_profilename', 'beer_style',\n       'review_palate', 'review_taste', 'beer_name', 'beer_abv',\n       'beer_beerid'],\n      dtype='object')\nIndex(['brewery_id', 'brewery_name', 'review_time', 'review_overall',\n       'review_aroma', 'review_appearance', 'review_profilename', 'beer_style',\n       'review_palate', 'review_taste', 'beer_name', 'beer_abv',\n       'beer_beerid'],\n      dtype='object')\nIndex(['brewery_name', 'review_time', 'review_overall', 'review_aroma',\n       'review_appearance', 'review_profilename', 'beer_style',\n       'review_palate', 'review_taste'],\n      dtype='object')\n"
     ]
    }
   ],
   "source": [
    "print(data_upd.columns)\n",
    "from src.data.set_data import rem_features\n",
    "data_upd = rem_features(data_upd, [\"brewery_id\",\"beer_beerid\",\"beer_name\",\"beer_abv\",\"beer_beerid\"])\n",
    "print(data_upd.columns)"
   ]
  },
  {
   "cell_type": "code",
   "execution_count": 23,
   "metadata": {},
   "outputs": [
    {
     "output_type": "stream",
     "name": "stdout",
     "text": [
      "(1586614,)\n(1586614, 8)\n"
     ]
    }
   ],
   "source": [
    "from src.data.set_data import pop_target\n",
    "\n",
    "feat, targ = pop_target(data_upd, \"beer_style\")\n",
    "\n",
    "print(targ.shape)\n",
    "print(feat.shape)"
   ]
  },
  {
   "cell_type": "code",
   "execution_count": 24,
   "metadata": {},
   "outputs": [
    {
     "output_type": "stream",
     "name": "stdout",
     "text": [
      "feat_trn :  777440 8\ntarg_trn :  777440\nfeat_val :  333189 8\ntarg_val :  333189\nfeat_tst :  475985 8\ntarg_tst :  475985\n"
     ]
    },
    {
     "output_type": "execute_result",
     "data": {
      "text/plain": [
       "[None, None, None, None, None, None]"
      ]
     },
     "metadata": {},
     "execution_count": 24
    }
   ],
   "source": [
    "from src.data.set_data import split_data\n",
    "from src.utils.misc import get_shape\n",
    "feat_trn, feat_tst, targ_trn, targ_tst = split_data(feat, targ, test_size=0.3)\n",
    "feat_trn, feat_val, targ_trn, targ_val = split_data(feat_trn, targ_trn, test_size=0.3)\n",
    "\n",
    "[print(data, \": \", get_shape(eval(data), True)) for data in [\"feat_trn\", \"targ_trn\", \"feat_val\", \"targ_val\", \"feat_tst\", \"targ_tst\"]]"
   ]
  }
 ]
}