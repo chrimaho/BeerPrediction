{
 "metadata": {
  "language_info": {
   "codemirror_mode": {
    "name": "ipython",
    "version": 3
   },
   "file_extension": ".py",
   "mimetype": "text/x-python",
   "name": "python",
   "nbconvert_exporter": "python",
   "pygments_lexer": "ipython3",
   "version": "3.7.6-final"
  },
  "orig_nbformat": 2,
  "kernelspec": {
   "name": "python3",
   "display_name": "Python 3.7.6 64-bit ('BeerPrediction': pipenv)",
   "metadata": {
    "interpreter": {
     "hash": "67e95891cef6f763a8da7f4b5ca092810ebeafd793900fd5434b07b31b2d8020"
    }
   }
  }
 },
 "nbformat": 4,
 "nbformat_minor": 2,
 "cells": [
  {
   "cell_type": "code",
   "execution_count": 1,
   "metadata": {},
   "outputs": [
    {
     "output_type": "stream",
     "name": "stdout",
     "text": [
      "The autoreload extension is already loaded. To reload it, use:\n  %reload_ext autoreload\n"
     ]
    }
   ],
   "source": [
    "# The usuals\n",
    "import os\n",
    "import sys\n",
    "import subprocess\n",
    "import pandas as pd\n",
    "import numpy as np\n",
    "\n",
    "# Useful stuff\n",
    "from joblib import dump, load\n",
    "from pprint import pprint\n",
    "import random\n",
    "from statistics import mode\n",
    "from datetime import datetime\n",
    "\n",
    "# PyTorch bits\n",
    "import torch\n",
    "from torch import nn\n",
    "from torch.nn import functional as F\n",
    "\n",
    "# Autoreload\n",
    "%load_ext autoreload\n",
    "%autoreload\n",
    "%load_ext autoreload\n",
    "\n",
    "# Pandas header\n",
    "pd.set_option(\"display.colheader_justify\",\"right\")"
   ]
  },
  {
   "cell_type": "code",
   "execution_count": 2,
   "metadata": {},
   "outputs": [],
   "source": [
    "# https://drive.google.com/u/0/uc?export=download&confirm=IpWH&id=1vYyJL_IB6KjKCxuk9kg4vIMPGTtoX8Ek"
   ]
  },
  {
   "cell_type": "code",
   "execution_count": 3,
   "metadata": {},
   "outputs": [],
   "source": [
    "# Ensure the directory is correct... every time.\n",
    "for i in range(5):\n",
    "    if not os.getcwd().lower() == subprocess.run(\"git rev-parse --show-toplevel\", stdout=subprocess.PIPE).stdout.decode(\"utf-8\").replace(\"/\",\"\\\\\").strip().lower():\n",
    "        os.chdir(\"..\"),\n",
    "    else:\n",
    "        break"
   ]
  },
  {
   "cell_type": "code",
   "execution_count": 4,
   "metadata": {},
   "outputs": [],
   "source": [
    "# Set up sys path environment\n",
    "if not os.path.abspath(\".\") in sys.path:\n",
    "    sys.path.append(os.path.abspath(\".\"))\n",
    "else:\n",
    "    sys.path.remove(os.path.abspath(\".\"))\n",
    "    sys.path.append(os.path.abspath(\".\"))"
   ]
  },
  {
   "cell_type": "code",
   "execution_count": 5,
   "metadata": {},
   "outputs": [
    {
     "output_type": "stream",
     "name": "stdout",
     "text": [
      "c:\\Users\\chris\\OneDrive\\02 - Education\\07 - MDSI\\09 - ADSI\\07 - GitHub Repo\\BeerPrediction\n"
     ]
    }
   ],
   "source": [
    "print(os.getcwd())"
   ]
  },
  {
   "cell_type": "code",
   "execution_count": 6,
   "metadata": {},
   "outputs": [],
   "source": [
    "data = pd.read_csv(\"./data/raw/beer_reviews.csv\")"
   ]
  },
  {
   "cell_type": "code",
   "execution_count": 7,
   "metadata": {},
   "outputs": [
    {
     "output_type": "stream",
     "name": "stdout",
     "text": [
      "(1586614, 13)\nIndex(['brewery_id', 'brewery_name', 'review_time', 'review_overall',\n       'review_aroma', 'review_appearance', 'review_profilename', 'beer_style',\n       'review_palate', 'review_taste', 'beer_name', 'beer_abv',\n       'beer_beerid'],\n      dtype='object')\n"
     ]
    },
    {
     "output_type": "display_data",
     "data": {
      "text/plain": "         brewery_id   review_time  review_overall  review_aroma  \\\ncount  1.586614e+06  1.586614e+06    1.586614e+06  1.586614e+06   \nmean   3.130099e+03  1.224089e+09    3.815581e+00  3.735636e+00   \nstd    5.578104e+03  7.654427e+07    7.206219e-01  6.976167e-01   \nmin    1.000000e+00  8.406720e+08    0.000000e+00  1.000000e+00   \n25%    1.430000e+02  1.173224e+09    3.500000e+00  3.500000e+00   \n50%    4.290000e+02  1.239203e+09    4.000000e+00  4.000000e+00   \n75%    2.372000e+03  1.288568e+09    4.500000e+00  4.000000e+00   \nmax    2.800300e+04  1.326285e+09    5.000000e+00  5.000000e+00   \n\n       review_appearance  review_palate  review_taste      beer_abv  \\\ncount       1.586614e+06   1.586614e+06  1.586614e+06  1.518829e+06   \nmean        3.841642e+00   3.743701e+00  3.792860e+00  7.042387e+00   \nstd         6.160928e-01   6.822184e-01  7.319696e-01  2.322526e+00   \nmin         0.000000e+00   1.000000e+00  1.000000e+00  1.000000e-02   \n25%         3.500000e+00   3.500000e+00  3.500000e+00  5.200000e+00   \n50%         4.000000e+00   4.000000e+00  4.000000e+00  6.500000e+00   \n75%         4.000000e+00   4.000000e+00  4.500000e+00  8.500000e+00   \nmax         5.000000e+00   5.000000e+00  5.000000e+00  5.770000e+01   \n\n        beer_beerid  \ncount  1.586614e+06  \nmean   2.171279e+04  \nstd    2.181834e+04  \nmin    3.000000e+00  \n25%    1.717000e+03  \n50%    1.390600e+04  \n75%    3.944100e+04  \nmax    7.731700e+04  ",
      "text/html": "<div>\n<style scoped>\n    .dataframe tbody tr th:only-of-type {\n        vertical-align: middle;\n    }\n\n    .dataframe tbody tr th {\n        vertical-align: top;\n    }\n\n    .dataframe thead th {\n        text-align: right;\n    }\n</style>\n<table border=\"1\" class=\"dataframe\">\n  <thead>\n    <tr style=\"text-align: right;\">\n      <th></th>\n      <th>brewery_id</th>\n      <th>review_time</th>\n      <th>review_overall</th>\n      <th>review_aroma</th>\n      <th>review_appearance</th>\n      <th>review_palate</th>\n      <th>review_taste</th>\n      <th>beer_abv</th>\n      <th>beer_beerid</th>\n    </tr>\n  </thead>\n  <tbody>\n    <tr>\n      <th>count</th>\n      <td>1.586614e+06</td>\n      <td>1.586614e+06</td>\n      <td>1.586614e+06</td>\n      <td>1.586614e+06</td>\n      <td>1.586614e+06</td>\n      <td>1.586614e+06</td>\n      <td>1.586614e+06</td>\n      <td>1.518829e+06</td>\n      <td>1.586614e+06</td>\n    </tr>\n    <tr>\n      <th>mean</th>\n      <td>3.130099e+03</td>\n      <td>1.224089e+09</td>\n      <td>3.815581e+00</td>\n      <td>3.735636e+00</td>\n      <td>3.841642e+00</td>\n      <td>3.743701e+00</td>\n      <td>3.792860e+00</td>\n      <td>7.042387e+00</td>\n      <td>2.171279e+04</td>\n    </tr>\n    <tr>\n      <th>std</th>\n      <td>5.578104e+03</td>\n      <td>7.654427e+07</td>\n      <td>7.206219e-01</td>\n      <td>6.976167e-01</td>\n      <td>6.160928e-01</td>\n      <td>6.822184e-01</td>\n      <td>7.319696e-01</td>\n      <td>2.322526e+00</td>\n      <td>2.181834e+04</td>\n    </tr>\n    <tr>\n      <th>min</th>\n      <td>1.000000e+00</td>\n      <td>8.406720e+08</td>\n      <td>0.000000e+00</td>\n      <td>1.000000e+00</td>\n      <td>0.000000e+00</td>\n      <td>1.000000e+00</td>\n      <td>1.000000e+00</td>\n      <td>1.000000e-02</td>\n      <td>3.000000e+00</td>\n    </tr>\n    <tr>\n      <th>25%</th>\n      <td>1.430000e+02</td>\n      <td>1.173224e+09</td>\n      <td>3.500000e+00</td>\n      <td>3.500000e+00</td>\n      <td>3.500000e+00</td>\n      <td>3.500000e+00</td>\n      <td>3.500000e+00</td>\n      <td>5.200000e+00</td>\n      <td>1.717000e+03</td>\n    </tr>\n    <tr>\n      <th>50%</th>\n      <td>4.290000e+02</td>\n      <td>1.239203e+09</td>\n      <td>4.000000e+00</td>\n      <td>4.000000e+00</td>\n      <td>4.000000e+00</td>\n      <td>4.000000e+00</td>\n      <td>4.000000e+00</td>\n      <td>6.500000e+00</td>\n      <td>1.390600e+04</td>\n    </tr>\n    <tr>\n      <th>75%</th>\n      <td>2.372000e+03</td>\n      <td>1.288568e+09</td>\n      <td>4.500000e+00</td>\n      <td>4.000000e+00</td>\n      <td>4.000000e+00</td>\n      <td>4.000000e+00</td>\n      <td>4.500000e+00</td>\n      <td>8.500000e+00</td>\n      <td>3.944100e+04</td>\n    </tr>\n    <tr>\n      <th>max</th>\n      <td>2.800300e+04</td>\n      <td>1.326285e+09</td>\n      <td>5.000000e+00</td>\n      <td>5.000000e+00</td>\n      <td>5.000000e+00</td>\n      <td>5.000000e+00</td>\n      <td>5.000000e+00</td>\n      <td>5.770000e+01</td>\n      <td>7.731700e+04</td>\n    </tr>\n  </tbody>\n</table>\n</div>"
     },
     "metadata": {}
    }
   ],
   "source": [
    "print(data.shape)\n",
    "print(data.columns)\n",
    "display(data.describe())"
   ]
  },
  {
   "cell_type": "code",
   "execution_count": 8,
   "metadata": {},
   "outputs": [],
   "source": [
    "# from pandas_profiling import ProfileReport\n",
    "\n",
    "# # Create profile report\n",
    "# profile = ProfileReport(data, title=\"Profile Report\")\n",
    "# # Export\n",
    "# profile.to_file(\"./reports/InitialReport.html\")\n",
    "# # View\n",
    "# display(profile)\n"
   ]
  },
  {
   "cell_type": "code",
   "execution_count": 9,
   "metadata": {},
   "outputs": [
    {
     "output_type": "stream",
     "name": "stdout",
     "text": [
      "(1586614, 13)\ndata\n"
     ]
    }
   ],
   "source": [
    "# from src.utils.misc import get_name\n",
    "from varname import nameof\n",
    "\n",
    "print(data.shape)\n",
    "print(nameof(data))"
   ]
  },
  {
   "source": [
    "# Set Up Dataset"
   ],
   "cell_type": "markdown",
   "metadata": {}
  },
  {
   "cell_type": "code",
   "execution_count": 10,
   "metadata": {},
   "outputs": [],
   "source": [
    "# Copy the data\n",
    "data_upd = data.copy()"
   ]
  },
  {
   "source": [
    "### Select only the desired feature columns"
   ],
   "cell_type": "markdown",
   "metadata": {}
  },
  {
   "cell_type": "code",
   "execution_count": 11,
   "metadata": {},
   "outputs": [],
   "source": [
    "from src.data.set_data import sel_feat_cols\n",
    "\n",
    "# Select only the desired feature columns\n",
    "data_upd = sel_feat_cols(data_upd, [\"brewery_name\",\"review_aroma\",\"review_appearance\",\"review_palate\",\"review_taste\",\"beer_style\"])"
   ]
  },
  {
   "source": [
    "# Fix NaN values in the `brewery_name` column\n",
    "print(len(data_upd[pd.isnull(data_upd[\"brewery_name\"])]))\n",
    "data_upd.loc[pd.isnull(data_upd[\"brewery_name\"]),[\"brewery_name\"]] = \"Other\"\n",
    "print(len(data_upd[pd.isnull(data_upd[\"brewery_name\"])]))"
   ],
   "cell_type": "code",
   "metadata": {},
   "execution_count": null,
   "outputs": []
  },
  {
   "cell_type": "code",
   "execution_count": 13,
   "metadata": {},
   "outputs": [
    {
     "output_type": "display_data",
     "data": {
      "text/plain": "                        brewery_name  review_aroma  review_appearance  \\\n0                    Vecchio Birraio           2.0                2.5   \n1                    Vecchio Birraio           2.5                3.0   \n2                    Vecchio Birraio           2.5                3.0   \n3                    Vecchio Birraio           3.0                3.5   \n4            Caldera Brewing Company           4.5                4.0   \n...                              ...           ...                ...   \n1586609  The Defiant Brewing Company           4.0                3.5   \n1586610  The Defiant Brewing Company           5.0                2.5   \n1586611  The Defiant Brewing Company           3.5                3.0   \n1586612  The Defiant Brewing Company           4.5                4.5   \n1586613  The Defiant Brewing Company           4.5                4.5   \n\n         review_palate  review_taste                      beer_style  \n0                  1.5           1.5                      Hefeweizen  \n1                  3.0           3.0              English Strong Ale  \n2                  3.0           3.0          Foreign / Export Stout  \n3                  2.5           3.0                 German Pilsener  \n4                  4.0           4.5  American Double / Imperial IPA  \n...                ...           ...                             ...  \n1586609            4.0           4.0                     Pumpkin Ale  \n1586610            2.0           4.0                     Pumpkin Ale  \n1586611            3.5           4.0                     Pumpkin Ale  \n1586612            4.5           4.5                     Pumpkin Ale  \n1586613            4.5           4.5                     Pumpkin Ale  \n\n[1586614 rows x 6 columns]",
      "text/html": "<div>\n<style scoped>\n    .dataframe tbody tr th:only-of-type {\n        vertical-align: middle;\n    }\n\n    .dataframe tbody tr th {\n        vertical-align: top;\n    }\n\n    .dataframe thead th {\n        text-align: right;\n    }\n</style>\n<table border=\"1\" class=\"dataframe\">\n  <thead>\n    <tr style=\"text-align: right;\">\n      <th></th>\n      <th>brewery_name</th>\n      <th>review_aroma</th>\n      <th>review_appearance</th>\n      <th>review_palate</th>\n      <th>review_taste</th>\n      <th>beer_style</th>\n    </tr>\n  </thead>\n  <tbody>\n    <tr>\n      <th>0</th>\n      <td>Vecchio Birraio</td>\n      <td>2.0</td>\n      <td>2.5</td>\n      <td>1.5</td>\n      <td>1.5</td>\n      <td>Hefeweizen</td>\n    </tr>\n    <tr>\n      <th>1</th>\n      <td>Vecchio Birraio</td>\n      <td>2.5</td>\n      <td>3.0</td>\n      <td>3.0</td>\n      <td>3.0</td>\n      <td>English Strong Ale</td>\n    </tr>\n    <tr>\n      <th>2</th>\n      <td>Vecchio Birraio</td>\n      <td>2.5</td>\n      <td>3.0</td>\n      <td>3.0</td>\n      <td>3.0</td>\n      <td>Foreign / Export Stout</td>\n    </tr>\n    <tr>\n      <th>3</th>\n      <td>Vecchio Birraio</td>\n      <td>3.0</td>\n      <td>3.5</td>\n      <td>2.5</td>\n      <td>3.0</td>\n      <td>German Pilsener</td>\n    </tr>\n    <tr>\n      <th>4</th>\n      <td>Caldera Brewing Company</td>\n      <td>4.5</td>\n      <td>4.0</td>\n      <td>4.0</td>\n      <td>4.5</td>\n      <td>American Double / Imperial IPA</td>\n    </tr>\n    <tr>\n      <th>...</th>\n      <td>...</td>\n      <td>...</td>\n      <td>...</td>\n      <td>...</td>\n      <td>...</td>\n      <td>...</td>\n    </tr>\n    <tr>\n      <th>1586609</th>\n      <td>The Defiant Brewing Company</td>\n      <td>4.0</td>\n      <td>3.5</td>\n      <td>4.0</td>\n      <td>4.0</td>\n      <td>Pumpkin Ale</td>\n    </tr>\n    <tr>\n      <th>1586610</th>\n      <td>The Defiant Brewing Company</td>\n      <td>5.0</td>\n      <td>2.5</td>\n      <td>2.0</td>\n      <td>4.0</td>\n      <td>Pumpkin Ale</td>\n    </tr>\n    <tr>\n      <th>1586611</th>\n      <td>The Defiant Brewing Company</td>\n      <td>3.5</td>\n      <td>3.0</td>\n      <td>3.5</td>\n      <td>4.0</td>\n      <td>Pumpkin Ale</td>\n    </tr>\n    <tr>\n      <th>1586612</th>\n      <td>The Defiant Brewing Company</td>\n      <td>4.5</td>\n      <td>4.5</td>\n      <td>4.5</td>\n      <td>4.5</td>\n      <td>Pumpkin Ale</td>\n    </tr>\n    <tr>\n      <th>1586613</th>\n      <td>The Defiant Brewing Company</td>\n      <td>4.5</td>\n      <td>4.5</td>\n      <td>4.5</td>\n      <td>4.5</td>\n      <td>Pumpkin Ale</td>\n    </tr>\n  </tbody>\n</table>\n<p>1586614 rows × 6 columns</p>\n</div>"
     },
     "metadata": {}
    }
   ],
   "source": [
    "# Check dataset\n",
    "display(data_upd)"
   ]
  },
  {
   "source": [
    "### Train the encoders"
   ],
   "cell_type": "markdown",
   "metadata": {}
  },
  {
   "cell_type": "code",
   "execution_count": null,
   "metadata": {},
   "outputs": [],
   "source": [
    "# `SimpleImputer` for `Nan` values in the `brewery_name` column\n"
   ]
  },
  {
   "source": [
    "### Pop the Target"
   ],
   "cell_type": "markdown",
   "metadata": {}
  },
  {
   "cell_type": "code",
   "execution_count": 14,
   "metadata": {},
   "outputs": [],
   "source": [
    "from src.data.set_data import pop_target\n",
    "\n",
    "# Separate the features from the target\n",
    "feat, targ = pop_target(data_upd, \"beer_style\")"
   ]
  },
  {
   "cell_type": "code",
   "execution_count": null,
   "metadata": {},
   "outputs": [],
   "source": []
  },
  {
   "cell_type": "code",
   "execution_count": 15,
   "metadata": {},
   "outputs": [
    {
     "output_type": "execute_result",
     "data": {
      "text/plain": [
       "['./data/interim/feat.joblib']"
      ]
     },
     "metadata": {},
     "execution_count": 15
    }
   ],
   "source": [
    "# Save the data sets\n",
    "dump(targ, \"./data/interim/targ.joblib\")\n",
    "dump(feat, \"./data/interim/feat.joblib\")"
   ]
  },
  {
   "cell_type": "code",
   "execution_count": 16,
   "metadata": {},
   "outputs": [
    {
     "output_type": "stream",
     "name": "stdout",
     "text": [
      "(1586614,)\n(1586614, 5)\n"
     ]
    }
   ],
   "source": [
    "# Check the sizes\n",
    "print(targ.shape)\n",
    "print(feat.shape)"
   ]
  },
  {
   "cell_type": "code",
   "execution_count": 17,
   "metadata": {},
   "outputs": [],
   "source": [
    "from src.data.set_data import split_data\n",
    "\n",
    "# Split data\n",
    "feat_trn, feat_tst, targ_trn, targ_tst = split_data(feat, targ, test_size=0.3)\n",
    "feat_trn, feat_val, targ_trn, targ_val = split_data(feat_trn, targ_trn, test_size=0.3)"
   ]
  },
  {
   "cell_type": "code",
   "execution_count": 18,
   "metadata": {},
   "outputs": [
    {
     "output_type": "display_data",
     "data": {
      "text/plain": "<pandas.io.formats.style.Styler at 0x1ed59574088>",
      "text/html": "<style  type=\"text/css\" >\n#T_842c8_row0_col0,#T_842c8_row0_col1,#T_842c8_row1_col0,#T_842c8_row1_col1,#T_842c8_row2_col0,#T_842c8_row2_col1,#T_842c8_row3_col0,#T_842c8_row3_col1,#T_842c8_row4_col0,#T_842c8_row4_col1,#T_842c8_row5_col0,#T_842c8_row5_col1{\n            text-align:  left;\n        }</style><table id=\"T_842c8_\" ><thead>    <tr>        <th class=\"blank level0\" ></th>        <th class=\"col_heading level0 col0\" >name</th>        <th class=\"col_heading level0 col1\" >shape</th>    </tr></thead><tbody>\n                <tr>\n                        <th id=\"T_842c8_level0_row0\" class=\"row_heading level0 row0\" >0</th>\n                        <td id=\"T_842c8_row0_col0\" class=\"data row0 col0\" >feat_trn</td>\n                        <td id=\"T_842c8_row0_col1\" class=\"data row0 col1\" >777440 x 5</td>\n            </tr>\n            <tr>\n                        <th id=\"T_842c8_level0_row1\" class=\"row_heading level0 row1\" >1</th>\n                        <td id=\"T_842c8_row1_col0\" class=\"data row1 col0\" >targ_trn</td>\n                        <td id=\"T_842c8_row1_col1\" class=\"data row1 col1\" >777440</td>\n            </tr>\n            <tr>\n                        <th id=\"T_842c8_level0_row2\" class=\"row_heading level0 row2\" >2</th>\n                        <td id=\"T_842c8_row2_col0\" class=\"data row2 col0\" >feat_val</td>\n                        <td id=\"T_842c8_row2_col1\" class=\"data row2 col1\" >333189 x 5</td>\n            </tr>\n            <tr>\n                        <th id=\"T_842c8_level0_row3\" class=\"row_heading level0 row3\" >3</th>\n                        <td id=\"T_842c8_row3_col0\" class=\"data row3 col0\" >targ_val</td>\n                        <td id=\"T_842c8_row3_col1\" class=\"data row3 col1\" >333189</td>\n            </tr>\n            <tr>\n                        <th id=\"T_842c8_level0_row4\" class=\"row_heading level0 row4\" >4</th>\n                        <td id=\"T_842c8_row4_col0\" class=\"data row4 col0\" >feat_tst</td>\n                        <td id=\"T_842c8_row4_col1\" class=\"data row4 col1\" >475985 x 5</td>\n            </tr>\n            <tr>\n                        <th id=\"T_842c8_level0_row5\" class=\"row_heading level0 row5\" >5</th>\n                        <td id=\"T_842c8_row5_col0\" class=\"data row5 col0\" >targ_tst</td>\n                        <td id=\"T_842c8_row5_col1\" class=\"data row5 col1\" >475985</td>\n            </tr>\n    </tbody></table>"
     },
     "metadata": {}
    }
   ],
   "source": [
    "from src.utils.misc import get_shape\n",
    "\n",
    "# Check the data\n",
    "temp = pd.DataFrame()\n",
    "new = [{\"name\": data, \"shape\": get_shape(eval(data), True)} for data in [\"feat_trn\", \"targ_trn\", \"feat_val\", \"targ_val\", \"feat_tst\", \"targ_tst\"]]\n",
    "temp = temp.append(new, ignore_index=True)\n",
    "temp = temp.style.set_properties(**{\"text-align\":\"left\"})\n",
    "display(temp)"
   ]
  },
  {
   "cell_type": "code",
   "execution_count": 20,
   "metadata": {},
   "outputs": [
    {
     "output_type": "display_data",
     "data": {
      "text/plain": "         brewery_name  review_aroma  review_appearance  review_palate  \\\n1008712        3622.0           3.5                4.0            3.5   \n1312749         149.0           2.0                2.0            2.0   \n118997         2143.0           3.5                3.0            3.5   \n523550         4162.0           4.0                4.5            4.5   \n271698         2021.0           3.5                4.0            3.5   \n...               ...           ...                ...            ...   \n1367338        2885.0           3.5                3.0            4.0   \n800633         4673.0           4.5                4.5            4.0   \n1249000        2231.0           4.0                4.5            4.0   \n456096         2934.0           1.5                1.5            1.0   \n240421         1201.0           4.0                4.0            4.0   \n\n         review_taste  \n1008712           4.0  \n1312749           2.0  \n118997            3.5  \n523550            4.5  \n271698            3.5  \n...               ...  \n1367338           3.5  \n800633            4.0  \n1249000           4.0  \n456096            1.0  \n240421            4.5  \n\n[777440 rows x 5 columns]",
      "text/html": "<div>\n<style scoped>\n    .dataframe tbody tr th:only-of-type {\n        vertical-align: middle;\n    }\n\n    .dataframe tbody tr th {\n        vertical-align: top;\n    }\n\n    .dataframe thead th {\n        text-align: right;\n    }\n</style>\n<table border=\"1\" class=\"dataframe\">\n  <thead>\n    <tr style=\"text-align: right;\">\n      <th></th>\n      <th>brewery_name</th>\n      <th>review_aroma</th>\n      <th>review_appearance</th>\n      <th>review_palate</th>\n      <th>review_taste</th>\n    </tr>\n  </thead>\n  <tbody>\n    <tr>\n      <th>1008712</th>\n      <td>3622.0</td>\n      <td>3.5</td>\n      <td>4.0</td>\n      <td>3.5</td>\n      <td>4.0</td>\n    </tr>\n    <tr>\n      <th>1312749</th>\n      <td>149.0</td>\n      <td>2.0</td>\n      <td>2.0</td>\n      <td>2.0</td>\n      <td>2.0</td>\n    </tr>\n    <tr>\n      <th>118997</th>\n      <td>2143.0</td>\n      <td>3.5</td>\n      <td>3.0</td>\n      <td>3.5</td>\n      <td>3.5</td>\n    </tr>\n    <tr>\n      <th>523550</th>\n      <td>4162.0</td>\n      <td>4.0</td>\n      <td>4.5</td>\n      <td>4.5</td>\n      <td>4.5</td>\n    </tr>\n    <tr>\n      <th>271698</th>\n      <td>2021.0</td>\n      <td>3.5</td>\n      <td>4.0</td>\n      <td>3.5</td>\n      <td>3.5</td>\n    </tr>\n    <tr>\n      <th>...</th>\n      <td>...</td>\n      <td>...</td>\n      <td>...</td>\n      <td>...</td>\n      <td>...</td>\n    </tr>\n    <tr>\n      <th>1367338</th>\n      <td>2885.0</td>\n      <td>3.5</td>\n      <td>3.0</td>\n      <td>4.0</td>\n      <td>3.5</td>\n    </tr>\n    <tr>\n      <th>800633</th>\n      <td>4673.0</td>\n      <td>4.5</td>\n      <td>4.5</td>\n      <td>4.0</td>\n      <td>4.0</td>\n    </tr>\n    <tr>\n      <th>1249000</th>\n      <td>2231.0</td>\n      <td>4.0</td>\n      <td>4.5</td>\n      <td>4.0</td>\n      <td>4.0</td>\n    </tr>\n    <tr>\n      <th>456096</th>\n      <td>2934.0</td>\n      <td>1.5</td>\n      <td>1.5</td>\n      <td>1.0</td>\n      <td>1.0</td>\n    </tr>\n    <tr>\n      <th>240421</th>\n      <td>1201.0</td>\n      <td>4.0</td>\n      <td>4.0</td>\n      <td>4.0</td>\n      <td>4.5</td>\n    </tr>\n  </tbody>\n</table>\n<p>777440 rows × 5 columns</p>\n</div>"
     },
     "metadata": {}
    }
   ],
   "source": [
    "from src.data.prep_data import encode_features\n",
    "\n",
    "# Encode the `brewery_name` feature\n",
    "feat_trn, encoder = encode_features(feat_trn, [\"brewery_name\"], \"oe\")"
   ]
  },
  {
   "cell_type": "code",
   "execution_count": null,
   "metadata": {},
   "outputs": [],
   "source": []
  },
  {
   "source": [
    "**Steps for transforming the data in production:**\n",
    "\n",
    "1. Ensure it has parsed all feature columns\n",
    "1. Select only feature columns\n",
    "1. Handle `NaN` values in the `brewery_name` column\n",
    "1. Encode the `brewery_name` column using the `OrdinalEncoder`\n",
    "1. Run the `StandardScaler` over the full dataset."
   ],
   "cell_type": "markdown",
   "metadata": {}
  }
 ]
}